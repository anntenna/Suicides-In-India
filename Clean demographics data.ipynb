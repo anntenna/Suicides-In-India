{
 "cells": [
  {
   "cell_type": "markdown",
   "metadata": {},
   "source": [
    "# Cleaning demographics data collected from Wikipedia\n",
    "\n",
    "The following steps will result in clean demographic data as a csv output file:\n",
    " 1. Make state column as index, rename index to 'State'\n",
    " 2. Get rid of all 'Rank' or rank-like columns\n",
    " 3. Add dataframe name to column names.\n",
    " 4. Merge dataframes"
   ]
  },
  {
   "cell_type": "code",
   "execution_count": 1,
   "metadata": {
    "collapsed": true
   },
   "outputs": [],
   "source": [
    "import numpy as np\n",
    "import pandas as pd\n",
    "from pandas import Series, DataFrame"
   ]
  },
  {
   "cell_type": "code",
   "execution_count": 2,
   "metadata": {
    "collapsed": true
   },
   "outputs": [],
   "source": [
    "all_indicators = pd.read_excel(\"India_Demographics.xlsx\", sheetname=None)"
   ]
  },
  {
   "cell_type": "code",
   "execution_count": 3,
   "metadata": {},
   "outputs": [],
   "source": [
    "keys = list(all_indicators.keys())"
   ]
  },
  {
   "cell_type": "markdown",
   "metadata": {},
   "source": [
    "## 1. Make state column as index, rename index to 'State'"
   ]
  },
  {
   "cell_type": "code",
   "execution_count": 4,
   "metadata": {},
   "outputs": [],
   "source": [
    "for index, data in enumerate(all_indicators.values()):\n",
    "    columns = Series(data.columns.values)\n",
    "    index_column = columns[columns.str.lower().str.find('state') >= 0]\n",
    "    data.set_index(index_column.iloc[0], inplace=True)\n",
    "    data.index.name='State'\n",
    "    data.name=keys[index]"
   ]
  },
  {
   "cell_type": "markdown",
   "metadata": {},
   "source": [
    "## 2. Get rid of all 'Rank' or rank-like columns"
   ]
  },
  {
   "cell_type": "code",
   "execution_count": 5,
   "metadata": {},
   "outputs": [],
   "source": [
    "for data in all_indicators.values():\n",
    "    columns = Series(data.columns.values)\n",
    "    rank_columns = columns[columns.str.lower().str.contains('rank').fillna(True)].tolist()\n",
    "    data.drop(rank_columns, axis=1, inplace=True)"
   ]
  },
  {
   "cell_type": "markdown",
   "metadata": {},
   "source": [
    "## 3. Add dataframe name to column names"
   ]
  },
  {
   "cell_type": "code",
   "execution_count": 6,
   "metadata": {},
   "outputs": [],
   "source": [
    "for index, data in enumerate(all_indicators.values()):\n",
    "    data.columns = Series(data.columns.values).apply(lambda x: keys[index] + '-' + x)"
   ]
  },
  {
   "cell_type": "markdown",
   "metadata": {},
   "source": [
    "## 4. Merge dataframes"
   ]
  },
  {
   "cell_type": "code",
   "execution_count": 7,
   "metadata": {},
   "outputs": [],
   "source": [
    "for i in range(len(keys)):\n",
    "    #print(i)\n",
    "    all_indicators[keys[0]]=all_indicators[keys[0]].merge(all_indicators[keys[i]], how='outer',left_index=True,right_index=True)\n",
    "    \n",
    "data = all_indicators[keys[0]]   "
   ]
  },
  {
   "cell_type": "markdown",
   "metadata": {},
   "source": [
    "## 5. Replace index (states) with values from original data"
   ]
  },
  {
   "cell_type": "code",
   "execution_count": 8,
   "metadata": {
    "collapsed": true
   },
   "outputs": [],
   "source": [
    "result_states = ['A & N Islands', 'Andhra Pradesh', 'Arunachal Pradesh', 'Assam',\n",
    "       'Bihar', 'Chandigarh', 'Chhattisgarh', 'D & N Haveli',\n",
    "       'Daman & Diu', 'Delhi (Ut)', 'Goa', 'Gujarat', 'Haryana',\n",
    "       'Himachal Pradesh', 'Jammu & Kashmir', 'Jharkhand', 'Karnataka',\n",
    "       'Kerala', 'Lakshadweep', 'Madhya Pradesh', 'Maharashtra', 'Manipur',\n",
    "       'Meghalaya', 'Mizoram', 'Nagaland', 'Odisha', 'Puducherry',\n",
    "       'Punjab', 'Rajasthan', 'Sikkim', 'Tamil Nadu', 'Tripura',\n",
    "       'Uttar Pradesh', 'Uttarakhand', 'West Bengal']"
   ]
  },
  {
   "cell_type": "code",
   "execution_count": 9,
   "metadata": {},
   "outputs": [],
   "source": [
    "import re\n",
    "state_matches = {}\n",
    "#A & N Islands\n",
    "state_matches[result_states[0]] = 'A.*N.*'\n",
    "state_matches[result_states[1]] = 'Andhra.*|Tel.*'\n",
    "state_matches[result_states[2]] = 'Arunachal.*'\n",
    "state_matches[result_states[3]] = 'Assam'\n",
    "state_matches[result_states[4]] = 'Bihar'\n",
    "state_matches[result_states[5]] = 'Chandigarh'\n",
    "state_matches[result_states[6]] = 'Chhattisgarh'\n",
    "state_matches[result_states[7]] = 'D.*N.*'\n",
    "state_matches[result_states[8]] = 'D.*D.*'\n",
    "state_matches[result_states[9]] = 'Delhi'\n",
    "state_matches[result_states[10]] = 'Goa'\n",
    "state_matches[result_states[11]] = 'Gujarat'\n",
    "state_matches[result_states[12]] = 'Haryana'\n",
    "state_matches[result_states[13]] = 'Himachal.*'\n",
    "state_matches[result_states[14]] = 'J.*K.*'\n",
    "state_matches[result_states[15]] = 'Jharkhand'\n",
    "state_matches[result_states[16]] = 'Karnataka'\n",
    "state_matches[result_states[17]] = 'Kerala'\n",
    "state_matches[result_states[18]] = 'Lakshadweep'\n",
    "state_matches[result_states[19]] = 'Madhya.*'\n",
    "state_matches[result_states[20]] = 'Maharashtra.*'\n",
    "state_matches[result_states[21]] = 'Manipur.*'\n",
    "state_matches[result_states[22]] = 'Meghalaya.*'\n",
    "state_matches[result_states[23]] = 'Mizoram.*'\n",
    "state_matches[result_states[24]] = 'Nagaland.*'\n",
    "state_matches[result_states[25]] = 'Odisha.*'\n",
    "state_matches[result_states[26]] = 'Pudu.*'\n",
    "state_matches[result_states[27]] = 'Punjab.*'\n",
    "state_matches[result_states[28]] = 'Raja.*'\n",
    "state_matches[result_states[29]] = 'Sikkim.*'\n",
    "state_matches[result_states[30]] = 'Tamil.*'\n",
    "state_matches[result_states[31]] = 'Tripura.*'\n",
    "state_matches[result_states[32]] = 'Uttar P.*'\n",
    "state_matches[result_states[33]] = 'Uttarakhand.*'\n",
    "state_matches[result_states[34]] = 'West.*'"
   ]
  },
  {
   "cell_type": "code",
   "execution_count": 10,
   "metadata": {},
   "outputs": [
    {
     "name": "stdout",
     "output_type": "stream",
     "text": [
      "Index(['A & N Islands', 'All  India  Average', 'All India', 'A & N Islands',\n",
      "       'A & N Islands', 'A & N Islands', 'Andhra Pradesh', 'Andhra Pradesh',\n",
      "       'Andhra Pradesh', 'Arunachal Pradesh', 'Assam', 'Bihar', 'Chandigarh',\n",
      "       'Chhattisgarh', 'D & N Haveli', 'D & N Haveli', 'D & N Haveli',\n",
      "       'Daman & Diu', 'Daman & Diu', 'Delhi (Ut)', 'Goa', 'Gujarat', 'Haryana',\n",
      "       'Himachal Pradesh', 'INDIA', 'India', 'India  average',\n",
      "       'Jammu & Kashmir', 'Jammu & Kashmir', 'Jharkhand', 'Karnataka',\n",
      "       'Kerala', 'Lakshadweep', 'Madhya Pradesh', 'Maharashtra', 'Manipur',\n",
      "       'Meghalaya', 'Mizoram', 'Nagaland', 'National average', 'Odisha',\n",
      "       'Puducherry', 'Puducherry', 'Punjab', 'Punjab', 'Rajasthan', 'Sikkim',\n",
      "       'Tamil Nadu', 'Andhra Pradesh', 'Andhra Pradesh', 'Total', 'Tripura',\n",
      "       'Uttar Pradesh', 'Uttarakhand', 'West Bengal', 'Whole  INDIA'],\n",
      "      dtype='object', name='State')\n"
     ]
    }
   ],
   "source": [
    "index_values = data.index\n",
    "count = 0\n",
    "for key, match in state_matches.items():\n",
    "    data.index = data.index.str.replace(match,key)\n",
    "    #count += len(matched_values)\n",
    "    #print (count, matched_values)\n",
    "\n",
    "print (data.index)"
   ]
  },
  {
   "cell_type": "markdown",
   "metadata": {},
   "source": [
    "## 6. Combine rows with the same index"
   ]
  },
  {
   "cell_type": "code",
   "execution_count": 11,
   "metadata": {},
   "outputs": [],
   "source": [
    "#def aggreg\n",
    "#data.groupby(data.index).agg()\n",
    "data = data.groupby(data.index).agg(lambda x: x.dropna().tolist())\n"
   ]
  },
  {
   "cell_type": "code",
   "execution_count": 12,
   "metadata": {},
   "outputs": [
    {
     "name": "stderr",
     "output_type": "stream",
     "text": [
      "/Library/Frameworks/Python.framework/Versions/3.6/lib/python3.6/site-packages/numpy/core/fromnumeric.py:2909: RuntimeWarning: Mean of empty slice.\n",
      "  out=out, **kwargs)\n",
      "/Library/Frameworks/Python.framework/Versions/3.6/lib/python3.6/site-packages/numpy/core/_methods.py:80: RuntimeWarning: invalid value encountered in double_scalars\n",
      "  ret = ret.dtype.type(ret / rcount)\n"
     ]
    }
   ],
   "source": [
    "def consolidate_list(x):\n",
    "    if all(isinstance(i, int) for i in x):\n",
    "        return np.mean(x)\n",
    "    else:\n",
    "        return x[0]\n",
    "\n",
    "data = data.applymap(consolidate_list)\n",
    "data = data.dropna(axis = 0, thresh = 18)\n",
    "\n",
    "# Remove repeated columns\n",
    "data = data.drop(data.columns[data.columns.str.contains('_y')], axis=1)"
   ]
  },
  {
   "cell_type": "markdown",
   "metadata": {},
   "source": [
    "## 7. Convert string elements to float"
   ]
  },
  {
   "cell_type": "code",
   "execution_count": 13,
   "metadata": {},
   "outputs": [],
   "source": [
    "import re\n",
    "def check_and_convert_to_float(x):\n",
    "    if isinstance(x, str):\n",
    "        result = re.search(r'\\d+', x.replace(',', ''))\n",
    "        if result:\n",
    "            return result.group()\n",
    "    else:\n",
    "        return float(x)\n",
    "data = data.applymap(check_and_convert_to_float)"
   ]
  },
  {
   "cell_type": "markdown",
   "metadata": {},
   "source": [
    "## 8. Save to csv!"
   ]
  },
  {
   "cell_type": "code",
   "execution_count": 14,
   "metadata": {
    "collapsed": true
   },
   "outputs": [],
   "source": [
    "data.to_csv('India_demographics.csv')"
   ]
  }
 ],
 "metadata": {
  "kernelspec": {
   "display_name": "Python 3",
   "language": "python",
   "name": "python3"
  },
  "language_info": {
   "codemirror_mode": {
    "name": "ipython",
    "version": 3
   },
   "file_extension": ".py",
   "mimetype": "text/x-python",
   "name": "python",
   "nbconvert_exporter": "python",
   "pygments_lexer": "ipython3",
   "version": "3.6.1"
  }
 },
 "nbformat": 4,
 "nbformat_minor": 2
}
