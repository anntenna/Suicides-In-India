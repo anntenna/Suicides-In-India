{
 "cells": [
  {
   "cell_type": "markdown",
   "metadata": {},
   "source": [
    "# Scraping Wikipedia for demographic data\n",
    "The data I am working with is absolute numbers of suicides, and will be interpreted better if I had population and other demographic data to work with. The easiest way to source this data is Wikipedia, since the data is available state-wise, as opposed to district-wise when sourced from the Indian census website.\n",
    "\n",
    "This Jupyter notebook contains the following steps I took to collect the data:\n",
    " 1. Scrape [this Wikipedia article](https://en.wikipedia.org/wiki/States_and_union_territories_of_India) to get the list of demographic indicators available on Wikipedia\n",
    " 2. Use the interact widget to manually select relevant articles without having to type in the names of each article I'm interested in\n",
    " 3. Scrape each article to get the first table and save them to a list\n",
    " 4. Clean up the HTML tables and load them into a list of pandas dataframes\n",
    " 5. Save the list of dataframes into an Excel file that I can refer to later.\n",
    " \n",
    "## Step 1: Scrape root article to get list of indicators"
   ]
  },
  {
   "cell_type": "code",
   "execution_count": 1,
   "metadata": {
    "collapsed": true
   },
   "outputs": [],
   "source": [
    "import requests\n",
    "from bs4 import BeautifulSoup\n",
    "\n",
    "WIKIPEDIA_BASE_URL = 'https://en.wikipedia.org'\n",
    "ROOT_ARTICLE = '/wiki/States_and_union_territories_of_India'"
   ]
  },
  {
   "cell_type": "code",
   "execution_count": 2,
   "metadata": {
    "collapsed": true
   },
   "outputs": [],
   "source": [
    "def retrieve_page(article):\n",
    "    wikipedia_url = WIKIPEDIA_BASE_URL + article\n",
    "    response = requests.get(wikipedia_url)\n",
    "\n",
    "    if response.status_code != 200:\n",
    "        print (\"Cannot fetch article {} from wikipedia. \\nStatus code: {}, Reason: {}\"\n",
    "            .format(article, response.status_code, response.reason))\n",
    "\n",
    "    return response"
   ]
  },
  {
   "cell_type": "code",
   "execution_count": 3,
   "metadata": {},
   "outputs": [],
   "source": [
    "response = retrieve_page(ROOT_ARTICLE)\n",
    "soup = BeautifulSoup(response.text, \"html5lib\")\n",
    "table = soup.find_all('table')[1]\n",
    "links = table.find_all('a',class_=None)"
   ]
  },
  {
   "cell_type": "code",
   "execution_count": 4,
   "metadata": {
    "collapsed": true
   },
   "outputs": [],
   "source": [
    "from collections import OrderedDict\n",
    "categories = OrderedDict()\n",
    "for link in links:\n",
    "    categories[link.text] = link.get('href')\n"
   ]
  },
  {
   "cell_type": "markdown",
   "metadata": {},
   "source": [
    "## Step 2: Manually select relevant articles to scrape"
   ]
  },
  {
   "cell_type": "code",
   "execution_count": 5,
   "metadata": {},
   "outputs": [
    {
     "data": {
      "application/vnd.jupyter.widget-view+json": {
       "model_id": "7e8374abbee64780a00974fb58838d0f"
      }
     },
     "metadata": {},
     "output_type": "display_data"
    }
   ],
   "source": [
    "import ipywidgets as widgets\n",
    "selections = widgets.SelectMultiple(\n",
    "    options=list(categories.keys()),\n",
    "    description='Pick a few categories',\n",
    "    disabled=False,\n",
    "    continueous_update=True\n",
    ")\n",
    "\n",
    "widgets.VBox([selections])"
   ]
  },
  {
   "cell_type": "code",
   "execution_count": 6,
   "metadata": {
    "collapsed": true
   },
   "outputs": [],
   "source": [
    "wanted_categories = list(selections.get_interact_value())"
   ]
  },
  {
   "cell_type": "markdown",
   "metadata": {},
   "source": [
    "## Step 3: Scrape each article in the selected list and save the first table to a list"
   ]
  },
  {
   "cell_type": "code",
   "execution_count": 7,
   "metadata": {
    "collapsed": true
   },
   "outputs": [],
   "source": [
    "tables = []\n",
    "for cat in list(categories.items()):\n",
    "    if cat[0] in wanted_categories:\n",
    "        response = retrieve_page(cat[1])\n",
    "        soup = BeautifulSoup(response.text, \"html5lib\")\n",
    "        tables.append(soup.find('table',class_='wikitable'))"
   ]
  },
  {
   "cell_type": "markdown",
   "metadata": {},
   "source": [
    "## Step 4: Clean up tables, save to Excel file"
   ]
  },
  {
   "cell_type": "code",
   "execution_count": 9,
   "metadata": {},
   "outputs": [],
   "source": [
    "import html5lib\n",
    "import bs4\n",
    "import pandas as pd\n",
    "from pandas import Series, DataFrame\n",
    "\n",
    "df_list = []\n",
    "for table in tables:\n",
    "    for td in table.find_all(['td','th']):\n",
    "        if isinstance(td.span,bs4.element.Tag):\n",
    "            td.span.decompose()\n",
    "        if isinstance(td.sup,bs4.element.Tag):\n",
    "            if isinstance(td.sup.a,bs4.element.Tag):\n",
    "                td.sup.a.decompose()\n",
    "            td.sup.decompose()\n",
    "    data = pd.read_html(table.prettify().replace('th>','td>'), flavor='bs4', header=0)[0]\n",
    "    df_list.append(data)"
   ]
  },
  {
   "cell_type": "code",
   "execution_count": 10,
   "metadata": {},
   "outputs": [
    {
     "data": {
      "text/html": [
       "<div>\n",
       "<style>\n",
       "    .dataframe thead tr:only-child th {\n",
       "        text-align: right;\n",
       "    }\n",
       "\n",
       "    .dataframe thead th {\n",
       "        text-align: left;\n",
       "    }\n",
       "\n",
       "    .dataframe tbody tr th {\n",
       "        vertical-align: top;\n",
       "    }\n",
       "</style>\n",
       "<table border=\"1\" class=\"dataframe\">\n",
       "  <thead>\n",
       "    <tr style=\"text-align: right;\">\n",
       "      <th></th>\n",
       "      <th>Rank</th>\n",
       "      <th>State or union territory</th>\n",
       "      <th>Population  (2011 Census)  (% of population of India)  [15]</th>\n",
       "      <th>Decadal growth (2001–2011)</th>\n",
       "      <th>Rural pop.  (%)</th>\n",
       "      <th>Urban pop.  (%)</th>\n",
       "      <th>Area</th>\n",
       "      <th>Density</th>\n",
       "      <th>Sex ratio</th>\n",
       "    </tr>\n",
       "  </thead>\n",
       "  <tbody>\n",
       "    <tr>\n",
       "      <th>0</th>\n",
       "      <td>1</td>\n",
       "      <td>Uttar Pradesh</td>\n",
       "      <td>199,281,477  (16.49%)</td>\n",
       "      <td>20.1%</td>\n",
       "      <td>155,111,022  (77.72%)</td>\n",
       "      <td>44,470,455  (22.28%)</td>\n",
       "      <td>240,928 km  (93,023 sq mi)</td>\n",
       "      <td>828/km  (2,140/sq mi)</td>\n",
       "      <td>908</td>\n",
       "    </tr>\n",
       "    <tr>\n",
       "      <th>1</th>\n",
       "      <td>2</td>\n",
       "      <td>Maharashtra</td>\n",
       "      <td>112,372,972  (9.28%)</td>\n",
       "      <td>16.0%</td>\n",
       "      <td>61,545,441  (54.77%)</td>\n",
       "      <td>50,827,531  (45.23%)</td>\n",
       "      <td>307,713 km  (118,809 sq mi)</td>\n",
       "      <td>365/km  (950/sq mi)</td>\n",
       "      <td>946</td>\n",
       "    </tr>\n",
       "    <tr>\n",
       "      <th>2</th>\n",
       "      <td>3</td>\n",
       "      <td>Bihar</td>\n",
       "      <td>103,804,637  (8.58%)</td>\n",
       "      <td>25.1%</td>\n",
       "      <td>92,075,028  (88.70%)</td>\n",
       "      <td>11,729,609  (11.30%)</td>\n",
       "      <td>94,163 km  (36,357 sq mi)</td>\n",
       "      <td>1,102/km  (2,850/sq mi)</td>\n",
       "      <td>916</td>\n",
       "    </tr>\n",
       "  </tbody>\n",
       "</table>\n",
       "</div>"
      ],
      "text/plain": [
       "  Rank State or union territory  \\\n",
       "0    1            Uttar Pradesh   \n",
       "1    2              Maharashtra   \n",
       "2    3                    Bihar   \n",
       "\n",
       "  Population  (2011 Census)  (% of population of India)  [15]  \\\n",
       "0                              199,281,477  (16.49%)            \n",
       "1                               112,372,972  (9.28%)            \n",
       "2                               103,804,637  (8.58%)            \n",
       "\n",
       "  Decadal growth (2001–2011)        Rural pop.  (%)       Urban pop.  (%)  \\\n",
       "0                      20.1%  155,111,022  (77.72%)  44,470,455  (22.28%)   \n",
       "1                      16.0%   61,545,441  (54.77%)  50,827,531  (45.23%)   \n",
       "2                      25.1%   92,075,028  (88.70%)  11,729,609  (11.30%)   \n",
       "\n",
       "                          Area                  Density  Sex ratio  \n",
       "0   240,928 km  (93,023 sq mi)    828/km  (2,140/sq mi)        908  \n",
       "1  307,713 km  (118,809 sq mi)      365/km  (950/sq mi)        946  \n",
       "2    94,163 km  (36,357 sq mi)  1,102/km  (2,850/sq mi)        916  "
      ]
     },
     "execution_count": 10,
     "metadata": {},
     "output_type": "execute_result"
    }
   ],
   "source": [
    "df_list[0].head(3)"
   ]
  },
  {
   "cell_type": "markdown",
   "metadata": {},
   "source": [
    "## Step 5: Save the dataframes to an Excel file"
   ]
  },
  {
   "cell_type": "code",
   "execution_count": 11,
   "metadata": {},
   "outputs": [],
   "source": [
    "df_series = Series(df_list, index = wanted_categories)"
   ]
  },
  {
   "cell_type": "code",
   "execution_count": 12,
   "metadata": {},
   "outputs": [],
   "source": [
    "excel_file = \"India_Demographics.xlsx\"\n",
    "writer = pd.ExcelWriter(excel_file)\n",
    "\n",
    "for index, df in enumerate(df_series):\n",
    "    df.to_excel(writer,wanted_categories[index])\n",
    "\n",
    "writer.save()"
   ]
  },
  {
   "cell_type": "code",
   "execution_count": null,
   "metadata": {
    "collapsed": true
   },
   "outputs": [],
   "source": []
  },
  {
   "cell_type": "code",
   "execution_count": null,
   "metadata": {
    "collapsed": true
   },
   "outputs": [],
   "source": []
  }
 ],
 "metadata": {
  "kernelspec": {
   "display_name": "Python 3",
   "language": "python",
   "name": "python3"
  },
  "language_info": {
   "codemirror_mode": {
    "name": "ipython",
    "version": 3
   },
   "file_extension": ".py",
   "mimetype": "text/x-python",
   "name": "python",
   "nbconvert_exporter": "python",
   "pygments_lexer": "ipython3",
   "version": "3.6.1"
  }
 },
 "nbformat": 4,
 "nbformat_minor": 2
}
