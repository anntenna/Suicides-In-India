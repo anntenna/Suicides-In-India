{
 "cells": [
  {
   "cell_type": "markdown",
   "metadata": {},
   "source": [
    "# An exploration of the causes of suicide\n",
    "\n",
    "## Introduction\n",
    "With a population of 1.3 billion, it isn’t surprising that India ranks high in suicides. As a child growing up in India, news of farmers committing suicide to avoid paying debts was common every summer. As the summers grew hotter, these suicide rates kept increasing. The urbanization of India does not seem to have had a positive effect on suicide rates. The government of India has made available [public data](https://data.gov.in/dataset-group-name/accidental-deaths-and-suicides) on deaths caused by accidents and suicides starting from the year 1967 to 2015. A [subset of this data is available on Kaggle](https://www.kaggle.com/rajanand/suicides-in-india), with a surprising amount of detail available for the cause of suicides starting from 2001.\n",
    "\n",
    "## Correlating suicides due to specific causes with India's demographic data\n",
    "To explore the data, I first wanted to find a way to normalize the data across states. To do this, I collected population data on each state from Wikipedia (not the best source, but it had to do for now!), and along with population, I collected some other demographic data. To see my steps on scraping Wikipedia and cleaning the data, go [here](Collect_demographic_data_from_Wikipedia.ipynb) and [here](Clean_demographics_data.ipynb).\n",
    "\n",
    "Now armed with population data, I changed the 'suicide' metric from raw numbers to suicides per 100,000 population for each state. This allowed me to compare numbers across states, and correlate the data using the demographic data I collected.\n",
    "\n",
    "To visually identify correlations, I've used [Seaborn's regplot](https://seaborn.pydata.org/generated/seaborn.regplot.html), which displays a scatter plot along with the line of best regression fit.\n",
    "\n",
    "Because there were so many causes of suicide to sift through, and so many demographic indicators to consider, I used ipywidgets' interact module to manually filter the map of regplots between indicators and the data. I also added manually selectable filters on the data, so that I can drill into specific years or a specific gender if I wanted to.\n",
    "\n",
    "Read on to know more, and download this notebook to use the widget to explore the data yourself!"
   ]
  },
  {
   "cell_type": "code",
   "execution_count": 1,
   "metadata": {
    "collapsed": true
   },
   "outputs": [],
   "source": [
    "import pandas as pd\n",
    "import numpy as np\n",
    "from pandas import DataFrame, Series\n",
    "import matplotlib.pyplot as plt\n",
    "import seaborn as sns\n",
    "%matplotlib inline"
   ]
  },
  {
   "cell_type": "code",
   "execution_count": 2,
   "metadata": {
    "collapsed": true
   },
   "outputs": [],
   "source": [
    "data = DataFrame.from_csv('Suicides_in_India-2001-2014_newest.csv', index_col = None)\n",
    "data = data[(data.Total>0) & ~(data.State.str.lower().str.contains('total'))]"
   ]
  },
  {
   "cell_type": "code",
   "execution_count": 3,
   "metadata": {},
   "outputs": [
    {
     "data": {
      "text/plain": [
       "array(['Means_adopted', 'Social_Status', 'Causes', 'Professional_Profile',\n",
       "       'Education_Status'], dtype=object)"
      ]
     },
     "execution_count": 3,
     "metadata": {},
     "output_type": "execute_result"
    }
   ],
   "source": [
    "data.Type_code.unique()"
   ]
  },
  {
   "cell_type": "code",
   "execution_count": 4,
   "metadata": {
    "collapsed": true
   },
   "outputs": [],
   "source": [
    "data_by_causes = data[data.Type_code == 'Causes']\n",
    "data_by_means_adopted = data[data.Type_code == 'Means_adopted']\n",
    "data_by_education_status = data[data.Type_code == 'Education_Status']\n",
    "data_by_professional_profile = data[data.Type_code == 'Professional_Profile']\n",
    "data_by_social_status = data[data.Type_code == 'Social_Status']"
   ]
  },
  {
   "cell_type": "markdown",
   "metadata": {},
   "source": [
    "## Causes of Suicide\n",
    "The list of causes reads like a list of triggers for depression, something that might call for a visit to a psychologist or a psychiatrist, and perhaps even a list of life events that occur in a lot of people’s lives (love affairs, divorce, family problems, fall in social reputation, to name a few). Not to trivialize individual situations, but a lot of these causes seem highly fixable. My aim with this dataset is to use it to use patterns in the data to identify the reasons for the rapid rise of suicide rates in India, and find out what can be done to prevent them. "
   ]
  },
  {
   "cell_type": "code",
   "execution_count": 5,
   "metadata": {},
   "outputs": [
    {
     "data": {
      "text/plain": [
       "Causes Not Known                                  3914\n",
       "Other                                             3811\n",
       "Family Problems                                   3282\n",
       "Other Prolonged Illness                           3148\n",
       "Insanity/Mental Illness                           3005\n",
       "Love Affairs                                      1995\n",
       "Poverty                                           1784\n",
       "Death Of Dear Person                              1769\n",
       "Fall In Social Reputation                         1733\n",
       "Bankruptcy Or Sudden Change In Economic Status    1712\n",
       "Drug Abuse/Addiction                              1658\n",
       "Suspected/Illicit Relation                        1633\n",
       "Unemployment                                      1632\n",
       "Property Dispute                                  1628\n",
       "Failure In Examination                            1617\n",
       "Cancer                                            1465\n",
       "Professional/Career Problem                       1351\n",
       "Cancellation/Non-Settlement Of Marriage           1322\n",
       "Not Having Children (Barrenness/Impotency)        1293\n",
       "Paralysis                                         1282\n",
       "Illness (Aids/Std)                                1146\n",
       "Dowry Related Issues                              1012\n",
       "Divorce                                           1006\n",
       "Physical/sexual abuse                              810\n",
       "Ideological Causes/Hero Worshipping                548\n",
       "Illegitimate Pregnancy                             466\n",
       "Other Family Problems                              261\n",
       "Extra Marital Affairs                               90\n",
       "Name: Type, dtype: int64"
      ]
     },
     "execution_count": 5,
     "metadata": {},
     "output_type": "execute_result"
    }
   ],
   "source": [
    "data_by_causes.Type.value_counts()"
   ]
  },
  {
   "cell_type": "markdown",
   "metadata": {},
   "source": [
    "## State-wise demographic data\n",
    "To get an idea of what lies behind these extreme numbers and causes, I've collected data on certain demographic indicators for each state in India. [Wikipedia](https://en.wikipedia.org/wiki/States_and_union_territories_of_India) has a decent collection of data on some interesting indicators, summarized from a variety of sources. I know it's not the most ideal source but will have to do for now!\n",
    "Links for:\n",
    " - [Collecting demographic data by scraping Wikipedia](Collect_demographic_data_from_Wikipedia.ipynb)\n",
    " - [Cleaning demographic data collected, consolidating to one csv file](Clean_demographics_data.ipynb)\n",
    "\n",
    "Let's load up the cleaned demographics data."
   ]
  },
  {
   "cell_type": "code",
   "execution_count": 6,
   "metadata": {},
   "outputs": [
    {
     "data": {
      "text/plain": [
       "48"
      ]
     },
     "execution_count": 6,
     "metadata": {},
     "output_type": "execute_result"
    }
   ],
   "source": [
    "demog_data = DataFrame.from_csv('India_demographics.csv')\n",
    "len(demog_data.columns)"
   ]
  },
  {
   "cell_type": "code",
   "execution_count": 7,
   "metadata": {
    "scrolled": true
   },
   "outputs": [
    {
     "data": {
      "text/html": [
       "<div>\n",
       "<style>\n",
       "    .dataframe thead tr:only-child th {\n",
       "        text-align: right;\n",
       "    }\n",
       "\n",
       "    .dataframe thead th {\n",
       "        text-align: left;\n",
       "    }\n",
       "\n",
       "    .dataframe tbody tr th {\n",
       "        vertical-align: top;\n",
       "    }\n",
       "</style>\n",
       "<table border=\"1\" class=\"dataframe\">\n",
       "  <thead>\n",
       "    <tr style=\"text-align: right;\">\n",
       "      <th></th>\n",
       "      <th>Population-2011</th>\n",
       "      <th>Population-decadal growth-2001-2011</th>\n",
       "      <th>Population-Rural</th>\n",
       "      <th>Population-Urban</th>\n",
       "      <th>Area(sq km)</th>\n",
       "      <th>Population-Density</th>\n",
       "      <th>Sex_Ratio</th>\n",
       "      <th>Child_Nutrition_Coverage_percent_of_Children</th>\n",
       "      <th>Crime_rate_per_100000_2015</th>\n",
       "      <th>Crime_Rate_per_100000_2012</th>\n",
       "      <th>...</th>\n",
       "      <th>Child_Sex_Ratio</th>\n",
       "      <th>Tax_Revenues_INR_Billions</th>\n",
       "      <th>TV_ownership_2011_percent</th>\n",
       "      <th>TV_ownership_percent_2001</th>\n",
       "      <th>Underweight_Males_percent</th>\n",
       "      <th>Underweight_Females_percent</th>\n",
       "      <th>Unemployment_Total</th>\n",
       "      <th>Unemployment_Urban</th>\n",
       "      <th>Unemployment_Rural</th>\n",
       "      <th>Vaccination_coverage_percent</th>\n",
       "    </tr>\n",
       "  </thead>\n",
       "  <tbody>\n",
       "    <tr>\n",
       "      <th>count</th>\n",
       "      <td>3.500000e+01</td>\n",
       "      <td>35.000000</td>\n",
       "      <td>3.500000e+01</td>\n",
       "      <td>3.500000e+01</td>\n",
       "      <td>35.000000</td>\n",
       "      <td>35.000000</td>\n",
       "      <td>35.000000</td>\n",
       "      <td>33.000000</td>\n",
       "      <td>35.000000</td>\n",
       "      <td>35.000000</td>\n",
       "      <td>...</td>\n",
       "      <td>35.000000</td>\n",
       "      <td>28.000000</td>\n",
       "      <td>33.000000</td>\n",
       "      <td>33.000000</td>\n",
       "      <td>28.000000</td>\n",
       "      <td>28.000000</td>\n",
       "      <td>28.000000</td>\n",
       "      <td>28.000000</td>\n",
       "      <td>28.000000</td>\n",
       "      <td>28.000000</td>\n",
       "    </tr>\n",
       "    <tr>\n",
       "      <th>mean</th>\n",
       "      <td>3.356065e+07</td>\n",
       "      <td>18.571429</td>\n",
       "      <td>2.318692e+07</td>\n",
       "      <td>1.038178e+07</td>\n",
       "      <td>90718.971429</td>\n",
       "      <td>856.514286</td>\n",
       "      <td>929.942857</td>\n",
       "      <td>48.627273</td>\n",
       "      <td>218.674286</td>\n",
       "      <td>194.771429</td>\n",
       "      <td>...</td>\n",
       "      <td>925.885714</td>\n",
       "      <td>1091.930000</td>\n",
       "      <td>52.181818</td>\n",
       "      <td>35.793939</td>\n",
       "      <td>20.607143</td>\n",
       "      <td>24.921429</td>\n",
       "      <td>66.857143</td>\n",
       "      <td>67.392857</td>\n",
       "      <td>67.642857</td>\n",
       "      <td>62.860714</td>\n",
       "    </tr>\n",
       "    <tr>\n",
       "      <th>std</th>\n",
       "      <td>4.361260e+07</td>\n",
       "      <td>10.957903</td>\n",
       "      <td>3.254814e+07</td>\n",
       "      <td>1.330746e+07</td>\n",
       "      <td>99648.151932</td>\n",
       "      <td>1916.175793</td>\n",
       "      <td>79.755488</td>\n",
       "      <td>16.683755</td>\n",
       "      <td>167.792421</td>\n",
       "      <td>107.605785</td>\n",
       "      <td>...</td>\n",
       "      <td>38.323523</td>\n",
       "      <td>1177.296861</td>\n",
       "      <td>19.526640</td>\n",
       "      <td>16.460311</td>\n",
       "      <td>10.236280</td>\n",
       "      <td>11.173525</td>\n",
       "      <td>44.420311</td>\n",
       "      <td>44.402485</td>\n",
       "      <td>50.121493</td>\n",
       "      <td>19.997525</td>\n",
       "    </tr>\n",
       "    <tr>\n",
       "      <th>min</th>\n",
       "      <td>6.442900e+04</td>\n",
       "      <td>0.000000</td>\n",
       "      <td>1.412100e+04</td>\n",
       "      <td>5.030800e+04</td>\n",
       "      <td>32.000000</td>\n",
       "      <td>17.000000</td>\n",
       "      <td>618.000000</td>\n",
       "      <td>5.900000</td>\n",
       "      <td>55.100000</td>\n",
       "      <td>47.000000</td>\n",
       "      <td>...</td>\n",
       "      <td>834.000000</td>\n",
       "      <td>15.470000</td>\n",
       "      <td>14.500000</td>\n",
       "      <td>9.100000</td>\n",
       "      <td>2.200000</td>\n",
       "      <td>2.000000</td>\n",
       "      <td>9.000000</td>\n",
       "      <td>7.000000</td>\n",
       "      <td>10.000000</td>\n",
       "      <td>19.100000</td>\n",
       "    </tr>\n",
       "    <tr>\n",
       "      <th>25%</th>\n",
       "      <td>1.420167e+06</td>\n",
       "      <td>13.000000</td>\n",
       "      <td>5.402255e+05</td>\n",
       "      <td>6.418700e+05</td>\n",
       "      <td>9367.500000</td>\n",
       "      <td>160.500000</td>\n",
       "      <td>900.500000</td>\n",
       "      <td>38.200000</td>\n",
       "      <td>133.150000</td>\n",
       "      <td>127.000000</td>\n",
       "      <td>...</td>\n",
       "      <td>898.000000</td>\n",
       "      <td>260.637500</td>\n",
       "      <td>35.300000</td>\n",
       "      <td>24.200000</td>\n",
       "      <td>11.250000</td>\n",
       "      <td>13.800000</td>\n",
       "      <td>41.250000</td>\n",
       "      <td>38.250000</td>\n",
       "      <td>35.500000</td>\n",
       "      <td>50.725000</td>\n",
       "    </tr>\n",
       "    <tr>\n",
       "      <th>50%</th>\n",
       "      <td>1.675324e+07</td>\n",
       "      <td>18.000000</td>\n",
       "      <td>9.134820e+06</td>\n",
       "      <td>4.388756e+06</td>\n",
       "      <td>53483.000000</td>\n",
       "      <td>350.000000</td>\n",
       "      <td>946.000000</td>\n",
       "      <td>52.500000</td>\n",
       "      <td>193.000000</td>\n",
       "      <td>178.000000</td>\n",
       "      <td>...</td>\n",
       "      <td>939.000000</td>\n",
       "      <td>684.500000</td>\n",
       "      <td>53.800000</td>\n",
       "      <td>31.500000</td>\n",
       "      <td>22.850000</td>\n",
       "      <td>27.300000</td>\n",
       "      <td>60.000000</td>\n",
       "      <td>55.000000</td>\n",
       "      <td>57.000000</td>\n",
       "      <td>64.350000</td>\n",
       "    </tr>\n",
       "    <tr>\n",
       "      <th>75%</th>\n",
       "      <td>5.488521e+07</td>\n",
       "      <td>22.000000</td>\n",
       "      <td>3.486381e+07</td>\n",
       "      <td>1.613304e+07</td>\n",
       "      <td>145449.000000</td>\n",
       "      <td>763.000000</td>\n",
       "      <td>974.500000</td>\n",
       "      <td>60.700000</td>\n",
       "      <td>225.900000</td>\n",
       "      <td>237.500000</td>\n",
       "      <td>...</td>\n",
       "      <td>957.000000</td>\n",
       "      <td>1555.000000</td>\n",
       "      <td>64.100000</td>\n",
       "      <td>44.100000</td>\n",
       "      <td>29.875000</td>\n",
       "      <td>32.700000</td>\n",
       "      <td>79.000000</td>\n",
       "      <td>79.000000</td>\n",
       "      <td>81.500000</td>\n",
       "      <td>76.050000</td>\n",
       "    </tr>\n",
       "    <tr>\n",
       "      <th>max</th>\n",
       "      <td>1.992815e+08</td>\n",
       "      <td>55.000000</td>\n",
       "      <td>1.551110e+08</td>\n",
       "      <td>5.082753e+07</td>\n",
       "      <td>342239.000000</td>\n",
       "      <td>11297.000000</td>\n",
       "      <td>1084.000000</td>\n",
       "      <td>69.800000</td>\n",
       "      <td>916.800000</td>\n",
       "      <td>585.000000</td>\n",
       "      <td>...</td>\n",
       "      <td>972.000000</td>\n",
       "      <td>4518.000000</td>\n",
       "      <td>88.000000</td>\n",
       "      <td>74.500000</td>\n",
       "      <td>36.300000</td>\n",
       "      <td>41.000000</td>\n",
       "      <td>197.000000</td>\n",
       "      <td>172.000000</td>\n",
       "      <td>203.000000</td>\n",
       "      <td>100.000000</td>\n",
       "    </tr>\n",
       "  </tbody>\n",
       "</table>\n",
       "<p>8 rows × 48 columns</p>\n",
       "</div>"
      ],
      "text/plain": [
       "       Population-2011  Population-decadal growth-2001-2011  Population-Rural  \\\n",
       "count     3.500000e+01                            35.000000      3.500000e+01   \n",
       "mean      3.356065e+07                            18.571429      2.318692e+07   \n",
       "std       4.361260e+07                            10.957903      3.254814e+07   \n",
       "min       6.442900e+04                             0.000000      1.412100e+04   \n",
       "25%       1.420167e+06                            13.000000      5.402255e+05   \n",
       "50%       1.675324e+07                            18.000000      9.134820e+06   \n",
       "75%       5.488521e+07                            22.000000      3.486381e+07   \n",
       "max       1.992815e+08                            55.000000      1.551110e+08   \n",
       "\n",
       "       Population-Urban    Area(sq km)  Population-Density    Sex_Ratio  \\\n",
       "count      3.500000e+01      35.000000           35.000000    35.000000   \n",
       "mean       1.038178e+07   90718.971429          856.514286   929.942857   \n",
       "std        1.330746e+07   99648.151932         1916.175793    79.755488   \n",
       "min        5.030800e+04      32.000000           17.000000   618.000000   \n",
       "25%        6.418700e+05    9367.500000          160.500000   900.500000   \n",
       "50%        4.388756e+06   53483.000000          350.000000   946.000000   \n",
       "75%        1.613304e+07  145449.000000          763.000000   974.500000   \n",
       "max        5.082753e+07  342239.000000        11297.000000  1084.000000   \n",
       "\n",
       "       Child_Nutrition_Coverage_percent_of_Children  \\\n",
       "count                                     33.000000   \n",
       "mean                                      48.627273   \n",
       "std                                       16.683755   \n",
       "min                                        5.900000   \n",
       "25%                                       38.200000   \n",
       "50%                                       52.500000   \n",
       "75%                                       60.700000   \n",
       "max                                       69.800000   \n",
       "\n",
       "       Crime_rate_per_100000_2015  Crime_Rate_per_100000_2012  \\\n",
       "count                   35.000000                   35.000000   \n",
       "mean                   218.674286                  194.771429   \n",
       "std                    167.792421                  107.605785   \n",
       "min                     55.100000                   47.000000   \n",
       "25%                    133.150000                  127.000000   \n",
       "50%                    193.000000                  178.000000   \n",
       "75%                    225.900000                  237.500000   \n",
       "max                    916.800000                  585.000000   \n",
       "\n",
       "                   ...               Child_Sex_Ratio  \\\n",
       "count              ...                     35.000000   \n",
       "mean               ...                    925.885714   \n",
       "std                ...                     38.323523   \n",
       "min                ...                    834.000000   \n",
       "25%                ...                    898.000000   \n",
       "50%                ...                    939.000000   \n",
       "75%                ...                    957.000000   \n",
       "max                ...                    972.000000   \n",
       "\n",
       "       Tax_Revenues_INR_Billions  TV_ownership_2011_percent  \\\n",
       "count                  28.000000                  33.000000   \n",
       "mean                 1091.930000                  52.181818   \n",
       "std                  1177.296861                  19.526640   \n",
       "min                    15.470000                  14.500000   \n",
       "25%                   260.637500                  35.300000   \n",
       "50%                   684.500000                  53.800000   \n",
       "75%                  1555.000000                  64.100000   \n",
       "max                  4518.000000                  88.000000   \n",
       "\n",
       "       TV_ownership_percent_2001  Underweight_Males_percent  \\\n",
       "count                  33.000000                  28.000000   \n",
       "mean                   35.793939                  20.607143   \n",
       "std                    16.460311                  10.236280   \n",
       "min                     9.100000                   2.200000   \n",
       "25%                    24.200000                  11.250000   \n",
       "50%                    31.500000                  22.850000   \n",
       "75%                    44.100000                  29.875000   \n",
       "max                    74.500000                  36.300000   \n",
       "\n",
       "       Underweight_Females_percent  Unemployment_Total  Unemployment_Urban  \\\n",
       "count                    28.000000           28.000000           28.000000   \n",
       "mean                     24.921429           66.857143           67.392857   \n",
       "std                      11.173525           44.420311           44.402485   \n",
       "min                       2.000000            9.000000            7.000000   \n",
       "25%                      13.800000           41.250000           38.250000   \n",
       "50%                      27.300000           60.000000           55.000000   \n",
       "75%                      32.700000           79.000000           79.000000   \n",
       "max                      41.000000          197.000000          172.000000   \n",
       "\n",
       "       Unemployment_Rural  Vaccination_coverage_percent  \n",
       "count           28.000000                     28.000000  \n",
       "mean            67.642857                     62.860714  \n",
       "std             50.121493                     19.997525  \n",
       "min             10.000000                     19.100000  \n",
       "25%             35.500000                     50.725000  \n",
       "50%             57.000000                     64.350000  \n",
       "75%             81.500000                     76.050000  \n",
       "max            203.000000                    100.000000  \n",
       "\n",
       "[8 rows x 48 columns]"
      ]
     },
     "execution_count": 7,
     "metadata": {},
     "output_type": "execute_result"
    }
   ],
   "source": [
    "\n",
    "demog_data.describe()"
   ]
  },
  {
   "cell_type": "markdown",
   "metadata": {},
   "source": [
    "## Visually identifying correlations\n",
    "\n",
    "To easily switch between combinations of indicators and data filters, I created a playground to allow manual selection of multiple demographic indicators, as well as set appropriate filters on the suicide data using ipywidgets' interact module.\n",
    "\n",
    "## DIY Regplots\n",
    "To explore the data with regplots, select a few indicators, and set filters on causes, gender, year and age group on the suicide data after running the cell below. Once the selections have been made, run the next cell to see the plots. To see the correlation coefficients of the filtered data with each indicator, run the cell after that.\n"
   ]
  },
  {
   "cell_type": "code",
   "execution_count": 8,
   "metadata": {},
   "outputs": [
    {
     "data": {
      "application/vnd.jupyter.widget-view+json": {
       "model_id": "c0ecc2051f734bc7a1c4c6664d64d872",
       "version_major": 2,
       "version_minor": 0
      },
      "text/plain": [
       "A Jupyter Widget"
      ]
     },
     "metadata": {},
     "output_type": "display_data"
    }
   ],
   "source": [
    "## Step 1: Run this cell to display the interactive list, and make your selections\n",
    "this_data = data_by_professional_profile\n",
    "import ipywidgets as widgets\n",
    "def create_SMwidget(options_list, list_description):\n",
    "    return widgets.SelectMultiple(\n",
    "    options=options_list,\n",
    "    description=list_description,\n",
    "    disabled=False,\n",
    "    continueous_update=True,\n",
    "    rows=len(options_list))\n",
    "\n",
    "select_indicators = create_SMwidget(demog_data.columns.tolist(),'Indicators')\n",
    "select_causes = create_SMwidget(this_data.Type.unique().tolist(),'Causes')\n",
    "select_gender = create_SMwidget(this_data.Gender.unique().tolist(),'Gender')\n",
    "select_year = create_SMwidget(this_data.Year.unique().tolist(),'Year')\n",
    "select_agegroup = create_SMwidget(this_data.Age_group.unique().tolist(),'Age group')\n",
    "\n",
    "widgets.HBox([select_indicators,select_causes,select_gender,select_year,select_agegroup])"
   ]
  },
  {
   "cell_type": "code",
   "execution_count": 11,
   "metadata": {},
   "outputs": [
    {
     "name": "stdout",
     "output_type": "stream",
     "text": [
      "Selected Years: [2009, 2010, 2011, 2012]\n"
     ]
    },
    {
     "data": {
      "image/png": "[encoded data removed]",
      "text/plain": [
       "<matplotlib.figure.Figure at 0x104935d68>"
      ]
     },
     "metadata": {},
     "output_type": "display_data"
    }
   ],
   "source": [
    "## Step 2: Run this cell to see the regplots\n",
    "\n",
    "# Collecting filters from user input\n",
    "selected_indicators = list(select_indicators.get_interact_value())\n",
    "selected_causes = list(select_causes.get_interact_value())\n",
    "selected_genders = list(select_gender.get_interact_value())\n",
    "selected_years = list(select_year.get_interact_value())\n",
    "selected_agegroups = list(select_agegroup.get_interact_value())\n",
    "\n",
    "# Filter suicide data\n",
    "filtered_data = data_by_causes\n",
    "\n",
    "if len(selected_years) > 0:\n",
    "    filtered_data = filtered_data[filtered_data.Year.isin(selected_years)]\n",
    "    print('Selected Years: {}'.format(selected_years))\n",
    "if len(selected_genders) > 0:\n",
    "    filtered_data = filtered_data[filtered_data.Gender.isin(selected_genders)]\n",
    "    print('Selected Genders: {}'.format(selected_genders))\n",
    "if len(selected_causes) > 0:\n",
    "    filtered_data = filtered_data[filtered_data.Type.isin(selected_causes)]\n",
    "    print('Selected Causes: {}'.format(selected_causes))\n",
    "if len(selected_agegroups) > 0:\n",
    "    filtered_data = filtered_data[filtered_data.Type.isin(selected_agegroups)]\n",
    "    print('Selected Age groups: {}'.format(selected_agegroups))\n",
    "\n",
    "# Get total suicide numbers grouped by State\n",
    "suicides_filtered = filtered_data.groupby('State')['Total'].sum()\n",
    "\n",
    "# Get suicide numbers relative to population\n",
    "population = demog_data['Population-2011'][demog_data.index.isin(suicides_filtered.index)]\n",
    "suicides_per_100K = (suicides_filtered/population)*100000\n",
    "suicides_per_100K.name='Suicides per 100K'\n",
    "\n",
    "# Function to create regplot\n",
    "# TODO: Generalize by passing dataframes/series as parameters\n",
    "def create_regplot(col_y, axis):\n",
    "    y_values = demog_data[col_y][demog_data.index.isin(suicides_per_100K.index)]\n",
    "    axis.set(ylim=(y_values.min(), y_values.max()))\n",
    "    sns.regplot(x=suicides_per_100K[suicides_per_100K.index.isin(y_values.index)],y=y_values,label=col_y, ax = axis)\n",
    "\n",
    "# Figure out the row/column configuration based on number of selected indicators\n",
    "column_count = 3\n",
    "row_count = int((len(selected_indicators)//column_count) + 1*(len(selected_indicators) % column_count))\n",
    "\n",
    "#Create subplots\n",
    "fig, axes = plt.subplots(row_count,column_count, sharex=True, figsize=(column_count*4,row_count*3))\n",
    "\n",
    "# Keep track of row and count at the end of the loop - to delete unused axes\n",
    "r = c = 0\n",
    "for i, col in enumerate(selected_indicators):\n",
    "    r = ((i)//column_count)\n",
    "    c = ((i)%column_count)\n",
    "    create_regplot(col, axes[r][c])\n",
    "\n",
    "# Delete unused axes\n",
    "if c < column_count-1:\n",
    "    for i in range(c + 1, column_count):\n",
    "        fig.delaxes(axes[r][i])\n",
    "\n",
    "fig.tight_layout()\n",
    "plt.show()"
   ]
  },
  {
   "cell_type": "code",
   "execution_count": 12,
   "metadata": {},
   "outputs": [
    {
     "data": {
      "text/plain": [
       "Suicides_data_per100K                           1.000000\n",
       "Suicides_per_100000_2012                        0.914779\n",
       "Household_size                                  0.705960\n",
       "Fertility_rate_2016                             0.585234\n",
       "Fertility_rate_2004                             0.572209\n",
       "Fertility_rate_2013                             0.528236\n",
       "Institutional_delivery_percent_2011             0.498602\n",
       "HDI_2015                                        0.478586\n",
       "Child_Sex_Ratio                                 0.450740\n",
       "Literacy_rate_2001                              0.409151\n",
       "Media_exposure_female_percent                   0.401583\n",
       "Media_exposure_male_percent                     0.397447\n",
       "GDP_nominal_USD                                 0.387765\n",
       "Households_having_electricity_percent_2017      0.373807\n",
       "Tax_Revenues_INR_Billions                       0.356394\n",
       "Child_Nutrition_Coverage_percent_of_Children    0.350974\n",
       "Households_having_electricity _percent_2011     0.343597\n",
       "Home_ownership_2011_percent                     0.338453\n",
       "Poverty_percent_bpl                             0.320388\n",
       "Literacy_Rate_male_2011                         0.320260\n",
       "HIV_awareness_male_percent                      0.311952\n",
       "Literacy_Rate_percent_2011                      0.311943\n",
       "Literacy_Rate_female_2011                       0.303043\n",
       "HIV_awareness_female_percent                    0.301550\n",
       "Registered_Motor_Vehicles_per_1000_2011-2012    0.284292\n",
       "Literacy_rate_Decadal_Difference                0.278152\n",
       "Crime_Rate_per_100000_2012                      0.276957\n",
       "Households_having_electricity_percent_2001      0.269850\n",
       "TV_ownership_2011_percent                       0.269845\n",
       "Toilet_availability-Other_type_percent          0.266957\n",
       "                                                  ...   \n",
       "Toilet_availability-No_toilet_percent           0.167609\n",
       "Unemployment_Urban                              0.166953\n",
       "Area(sq km)                                     0.146578\n",
       "Crime_rate_per_100000_2015                      0.145844\n",
       "Population-2011                                 0.145767\n",
       "Toilet_availability_percent                     0.145477\n",
       "Life_expectancy_at_birth                        0.143159\n",
       "Population-decadal growth-2001-2011             0.113755\n",
       "Ease_of_Doing_Business-2015                     0.103786\n",
       "Forest_cover_sqkm                               0.092973\n",
       "Forest_cover_Open_forest_sqkm                   0.090706\n",
       "Number_human_trafficking_cases_2012             0.090530\n",
       "TV_ownership_percent_2001                       0.083493\n",
       "Fertility_rate_Change_2004-16                   0.076109\n",
       "Underweight_Females_percent                     0.060348\n",
       "Fertility_rate_Change_2013-16                   0.056722\n",
       "Forest_cover_Very_dense_sqkm                    0.054520\n",
       "Forest_cover_Moderately_dense_sqkm              0.050244\n",
       "Economic_Freedom_2015-16_Score_percent          0.031817\n",
       "Toilet_availability-Pit_toilet_percent          0.026753\n",
       "Open_defecation_prevalence_urban_percent        0.024559\n",
       "Ease_of_Doing_Business-2016                     0.022379\n",
       "Forest_cover_Total_sqkm                         0.021518\n",
       "Places_of_worship_number                        0.015817\n",
       "Population-Urban                                0.014756\n",
       "Underweight_Males_percent                       0.012515\n",
       "Forest_cover_percent                            0.012302\n",
       "Open_defecation_total_percent                   0.010540\n",
       "Open_defecation_prevalence_rural_percent        0.008344\n",
       "Population-Density                              0.002834\n",
       "Name: Suicides_data_per100K, Length: 72, dtype: float64"
      ]
     },
     "execution_count": 12,
     "metadata": {},
     "output_type": "execute_result"
    }
   ],
   "source": [
    "# Step 3: Run this cell to view correlation coefficients using the Pearson method.\n",
    "# Might need to uncomment the first line of commented code if running this cell more than once in the same session\n",
    "# TODO: Fix this!\n",
    "# demog_data.drop('Suicides_data_per100K',axis=1, inplace=True)\n",
    "demog_data['Suicides_data_per100K'] = suicides_per_100K\n",
    "correlations = demog_data[['Suicides_data_per100K'] + selected_indicators].corr(method='pearson')\n",
    "correlations['Suicides_data_per100K'].apply(abs).sort_values(ascending=False)"
   ]
  },
  {
   "cell_type": "code",
   "execution_count": null,
   "metadata": {
    "collapsed": true
   },
   "outputs": [],
   "source": [
    "## Calculating R^2 for Fertility_rate_2013 and female suicides in 2011-2012\n",
    "import math\n",
    "math.pow(correlations['Suicides_data_per100K']['Fertility_rate_2013'],2)"
   ]
  },
  {
   "cell_type": "markdown",
   "metadata": {},
   "source": [
    "## Fertility rates and female suicides\n",
    "\n",
    "From the initial selections made above, there is some correlation between suicides by women and fertility rates of the closest available year. An $R^{2}$ value of 0.32 isn't the most promising, but there's a good chance that the indicator `Fertility_rate_2013` would be included in the list of indicators that could explain female suicides.\n",
    "\n"
   ]
  },
  {
   "cell_type": "markdown",
   "metadata": {},
   "source": [
    "## Assessing the feasibility of anecdotal trends\n",
    "\n",
    "One of the first trends I had pointed out was the increasing rates of suicide with every year that the summer got hotter. I'd love to check if there is any semblance to this anecdotal trend, and so my next step is to collect regional maximum temperatures and their trends, ideally by state and year. Stay tuned for more!"
   ]
  },
  {
   "cell_type": "code",
   "execution_count": null,
   "metadata": {
    "collapsed": true
   },
   "outputs": [],
   "source": [
    "data_by_causes.Total.sum()"
   ]
  },
  {
   "cell_type": "code",
   "execution_count": null,
   "metadata": {
    "collapsed": true
   },
   "outputs": [],
   "source": [
    "summary_professionalprofile_gender = data_by_professional_profile.groupby(['Type','Gender'])['Total'].sum().unstack('Gender')\n",
    "summary_professionalprofile_gender['Total'] = summary_professionalprofile_gender.Female + summary_professionalprofile_gender.Male\n",
    "ax = summary_professionalprofile_gender.sort_values(by='Total',ascending=False)[['Female','Male']].plot(kind='barh',stacked=True)\n",
    "#ax.set_title('Top 10 causes of suicide')\n",
    "pass"
   ]
  },
  {
   "cell_type": "code",
   "execution_count": null,
   "metadata": {
    "collapsed": true
   },
   "outputs": [],
   "source": [
    "now_data = data_by_professional_profile\n",
    "now_data[(now_data.State == 'Andhra Pradesh') & (now_data.Year == 2001) & (now_data.Gender == 'Female') & (now_data.Age_group == '0-14')]"
   ]
  },
  {
   "cell_type": "code",
   "execution_count": null,
   "metadata": {
    "collapsed": true
   },
   "outputs": [],
   "source": [
    "now_data = data_by_causes\n",
    "now_data[(now_data.State == 'Andhra Pradesh') & (now_data.Year == 2001) & (now_data.Gender == 'Female') & (now_data.Age_group == '0-14')]"
   ]
  },
  {
   "cell_type": "code",
   "execution_count": null,
   "metadata": {
    "collapsed": true
   },
   "outputs": [],
   "source": []
  }
 ],
 "metadata": {
  "kernelspec": {
   "display_name": "Python 3",
   "language": "python",
   "name": "python3"
  },
  "language_info": {
   "codemirror_mode": {
    "name": "ipython",
    "version": 3
   },
   "file_extension": ".py",
   "mimetype": "text/x-python",
   "name": "python",
   "nbconvert_exporter": "python",
   "pygments_lexer": "ipython3",
   "version": "3.6.1"
  }
 },
 "nbformat": 4,
 "nbformat_minor": 2
}
