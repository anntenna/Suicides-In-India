{
 "cells": [
  {
   "cell_type": "code",
   "execution_count": 1,
   "metadata": {
    "collapsed": true
   },
   "outputs": [],
   "source": [
    "import pandas as pd\n",
    "from pandas import DataFrame, Series"
   ]
  },
  {
   "cell_type": "code",
   "execution_count": 275,
   "metadata": {
    "collapsed": true
   },
   "outputs": [],
   "source": [
    "data = DataFrame.from_csv('Suicides_in_India_2001-2014.csv', index_col = None)\n"
   ]
  },
  {
   "cell_type": "code",
   "execution_count": 357,
   "metadata": {
    "collapsed": true
   },
   "outputs": [],
   "source": [
    "data_to_add = DataFrame.from_csv('Social_status_of_suicide_victims_state_2001-2012.csv', index_col = None)\n"
   ]
  },
  {
   "cell_type": "code",
   "execution_count": 358,
   "metadata": {},
   "outputs": [
    {
     "data": {
      "text/html": [
       "<div>\n",
       "<style>\n",
       "    .dataframe thead tr:only-child th {\n",
       "        text-align: right;\n",
       "    }\n",
       "\n",
       "    .dataframe thead th {\n",
       "        text-align: left;\n",
       "    }\n",
       "\n",
       "    .dataframe tbody tr th {\n",
       "        vertical-align: top;\n",
       "    }\n",
       "</style>\n",
       "<table border=\"1\" class=\"dataframe\">\n",
       "  <thead>\n",
       "    <tr style=\"text-align: right;\">\n",
       "      <th></th>\n",
       "      <th>STATE/UT</th>\n",
       "      <th>Year</th>\n",
       "      <th>CAUSE</th>\n",
       "      <th>Male</th>\n",
       "      <th>Female</th>\n",
       "      <th>Total</th>\n",
       "    </tr>\n",
       "  </thead>\n",
       "  <tbody>\n",
       "    <tr>\n",
       "      <th>0</th>\n",
       "      <td>ANDHRA PRADESH</td>\n",
       "      <td>2001</td>\n",
       "      <td>Never Married</td>\n",
       "      <td>819</td>\n",
       "      <td>591</td>\n",
       "      <td>1410</td>\n",
       "    </tr>\n",
       "    <tr>\n",
       "      <th>1</th>\n",
       "      <td>ANDHRA PRADESH</td>\n",
       "      <td>2001</td>\n",
       "      <td>Married</td>\n",
       "      <td>5135</td>\n",
       "      <td>3135</td>\n",
       "      <td>8270</td>\n",
       "    </tr>\n",
       "    <tr>\n",
       "      <th>2</th>\n",
       "      <td>ANDHRA PRADESH</td>\n",
       "      <td>2001</td>\n",
       "      <td>Widowed/Widower</td>\n",
       "      <td>183</td>\n",
       "      <td>236</td>\n",
       "      <td>419</td>\n",
       "    </tr>\n",
       "    <tr>\n",
       "      <th>3</th>\n",
       "      <td>ANDHRA PRADESH</td>\n",
       "      <td>2001</td>\n",
       "      <td>Divorcee</td>\n",
       "      <td>47</td>\n",
       "      <td>43</td>\n",
       "      <td>90</td>\n",
       "    </tr>\n",
       "    <tr>\n",
       "      <th>4</th>\n",
       "      <td>ANDHRA PRADESH</td>\n",
       "      <td>2001</td>\n",
       "      <td>Seperated</td>\n",
       "      <td>195</td>\n",
       "      <td>138</td>\n",
       "      <td>333</td>\n",
       "    </tr>\n",
       "  </tbody>\n",
       "</table>\n",
       "</div>"
      ],
      "text/plain": [
       "         STATE/UT  Year            CAUSE  Male  Female  Total\n",
       "0  ANDHRA PRADESH  2001    Never Married   819     591   1410\n",
       "1  ANDHRA PRADESH  2001          Married  5135    3135   8270\n",
       "2  ANDHRA PRADESH  2001  Widowed/Widower   183     236    419\n",
       "3  ANDHRA PRADESH  2001         Divorcee    47      43     90\n",
       "4  ANDHRA PRADESH  2001        Seperated   195     138    333"
      ]
     },
     "execution_count": 358,
     "metadata": {},
     "output_type": "execute_result"
    }
   ],
   "source": [
    "data_to_add.head()"
   ]
  },
  {
   "cell_type": "code",
   "execution_count": 222,
   "metadata": {
    "collapsed": true
   },
   "outputs": [],
   "source": [
    "data_to_add = data_to_add.drop(['Transgender'],axis=1)"
   ]
  },
  {
   "cell_type": "code",
   "execution_count": 359,
   "metadata": {
    "collapsed": true
   },
   "outputs": [],
   "source": [
    "data_to_add = data_to_add.drop(data_to_add.columns[data_to_add.columns.str.contains('Total')],axis=1)"
   ]
  },
  {
   "cell_type": "code",
   "execution_count": 360,
   "metadata": {
    "collapsed": true
   },
   "outputs": [],
   "source": [
    "data_to_add = DataFrame(data_to_add.set_index(['STATE/UT','Year','CAUSE']).stack()).reset_index()"
   ]
  },
  {
   "cell_type": "code",
   "execution_count": 117,
   "metadata": {
    "scrolled": true
   },
   "outputs": [
    {
     "data": {
      "text/plain": [
       "array(['0-14', '15-29', '30-44', '45-59', '60+', '0-100+'], dtype=object)"
      ]
     },
     "execution_count": 117,
     "metadata": {},
     "output_type": "execute_result"
    }
   ],
   "source": [
    "data.Age_group.unique()"
   ]
  },
  {
   "cell_type": "code",
   "execution_count": 361,
   "metadata": {},
   "outputs": [
    {
     "data": {
      "text/html": [
       "<div>\n",
       "<style>\n",
       "    .dataframe thead tr:only-child th {\n",
       "        text-align: right;\n",
       "    }\n",
       "\n",
       "    .dataframe thead th {\n",
       "        text-align: left;\n",
       "    }\n",
       "\n",
       "    .dataframe tbody tr th {\n",
       "        vertical-align: top;\n",
       "    }\n",
       "</style>\n",
       "<table border=\"1\" class=\"dataframe\">\n",
       "  <thead>\n",
       "    <tr style=\"text-align: right;\">\n",
       "      <th></th>\n",
       "      <th>STATE/UT</th>\n",
       "      <th>Year</th>\n",
       "      <th>CAUSE</th>\n",
       "      <th>level_3</th>\n",
       "      <th>0</th>\n",
       "    </tr>\n",
       "  </thead>\n",
       "  <tbody>\n",
       "    <tr>\n",
       "      <th>0</th>\n",
       "      <td>ANDHRA PRADESH</td>\n",
       "      <td>2001</td>\n",
       "      <td>Never Married</td>\n",
       "      <td>Male</td>\n",
       "      <td>819</td>\n",
       "    </tr>\n",
       "    <tr>\n",
       "      <th>1</th>\n",
       "      <td>ANDHRA PRADESH</td>\n",
       "      <td>2001</td>\n",
       "      <td>Never Married</td>\n",
       "      <td>Female</td>\n",
       "      <td>591</td>\n",
       "    </tr>\n",
       "    <tr>\n",
       "      <th>2</th>\n",
       "      <td>ANDHRA PRADESH</td>\n",
       "      <td>2001</td>\n",
       "      <td>Married</td>\n",
       "      <td>Male</td>\n",
       "      <td>5135</td>\n",
       "    </tr>\n",
       "    <tr>\n",
       "      <th>3</th>\n",
       "      <td>ANDHRA PRADESH</td>\n",
       "      <td>2001</td>\n",
       "      <td>Married</td>\n",
       "      <td>Female</td>\n",
       "      <td>3135</td>\n",
       "    </tr>\n",
       "    <tr>\n",
       "      <th>4</th>\n",
       "      <td>ANDHRA PRADESH</td>\n",
       "      <td>2001</td>\n",
       "      <td>Widowed/Widower</td>\n",
       "      <td>Male</td>\n",
       "      <td>183</td>\n",
       "    </tr>\n",
       "  </tbody>\n",
       "</table>\n",
       "</div>"
      ],
      "text/plain": [
       "         STATE/UT  Year            CAUSE level_3     0\n",
       "0  ANDHRA PRADESH  2001    Never Married    Male   819\n",
       "1  ANDHRA PRADESH  2001    Never Married  Female   591\n",
       "2  ANDHRA PRADESH  2001          Married    Male  5135\n",
       "3  ANDHRA PRADESH  2001          Married  Female  3135\n",
       "4  ANDHRA PRADESH  2001  Widowed/Widower    Male   183"
      ]
     },
     "execution_count": 361,
     "metadata": {},
     "output_type": "execute_result"
    }
   ],
   "source": [
    "data_to_add.head()"
   ]
  },
  {
   "cell_type": "code",
   "execution_count": 330,
   "metadata": {
    "collapsed": true
   },
   "outputs": [],
   "source": [
    "# df.columns = pd.MultiIndex.from_product([df.columns, ['C']])\n",
    "\n",
    "data_to_add = data_to_add.set_index(['STATE/UT','Year','CAUSE'])\n",
    "\n",
    "data_to_add_male = data_to_add[data_to_add.columns[data_to_add.columns.str.contains('Male')]]\n",
    "data_to_add_male.columns = pd.MultiIndex.from_product([['Male'],data_to_add_male.columns])\n",
    "\n",
    "data_to_add_female = data_to_add[data_to_add.columns[data_to_add.columns.str.contains('Female')]]\n",
    "data_to_add_female.columns = pd.MultiIndex.from_product([['Female'],data_to_add_female.columns])"
   ]
  },
  {
   "cell_type": "code",
   "execution_count": 331,
   "metadata": {},
   "outputs": [
    {
     "data": {
      "text/html": [
       "<div>\n",
       "<style>\n",
       "    .dataframe thead tr:only-child th {\n",
       "        text-align: right;\n",
       "    }\n",
       "\n",
       "    .dataframe thead th {\n",
       "        text-align: left;\n",
       "    }\n",
       "\n",
       "    .dataframe tbody tr th {\n",
       "        vertical-align: top;\n",
       "    }\n",
       "</style>\n",
       "<table border=\"1\" class=\"dataframe\">\n",
       "  <thead>\n",
       "    <tr>\n",
       "      <th></th>\n",
       "      <th></th>\n",
       "      <th></th>\n",
       "      <th colspan=\"5\" halign=\"left\">Male</th>\n",
       "    </tr>\n",
       "    <tr>\n",
       "      <th></th>\n",
       "      <th></th>\n",
       "      <th></th>\n",
       "      <th>Male upto 14 years</th>\n",
       "      <th>Male 15-29 years</th>\n",
       "      <th>Male 30-44 years</th>\n",
       "      <th>Male 45-59 years</th>\n",
       "      <th>Male 60 years and above</th>\n",
       "    </tr>\n",
       "    <tr>\n",
       "      <th>STATE/UT</th>\n",
       "      <th>Year</th>\n",
       "      <th>CAUSE</th>\n",
       "      <th></th>\n",
       "      <th></th>\n",
       "      <th></th>\n",
       "      <th></th>\n",
       "      <th></th>\n",
       "    </tr>\n",
       "  </thead>\n",
       "  <tbody>\n",
       "    <tr>\n",
       "      <th rowspan=\"5\" valign=\"top\">ANDHRA PRADESH</th>\n",
       "      <th rowspan=\"5\" valign=\"top\">2001</th>\n",
       "      <th>House Wife</th>\n",
       "      <td>0</td>\n",
       "      <td>0</td>\n",
       "      <td>0</td>\n",
       "      <td>0</td>\n",
       "      <td>0</td>\n",
       "    </tr>\n",
       "    <tr>\n",
       "      <th>Service (Government)</th>\n",
       "      <td>0</td>\n",
       "      <td>34</td>\n",
       "      <td>57</td>\n",
       "      <td>44</td>\n",
       "      <td>0</td>\n",
       "    </tr>\n",
       "    <tr>\n",
       "      <th>Service (Private)</th>\n",
       "      <td>1</td>\n",
       "      <td>250</td>\n",
       "      <td>275</td>\n",
       "      <td>138</td>\n",
       "      <td>10</td>\n",
       "    </tr>\n",
       "    <tr>\n",
       "      <th>Public Sector Undertaking</th>\n",
       "      <td>0</td>\n",
       "      <td>32</td>\n",
       "      <td>36</td>\n",
       "      <td>29</td>\n",
       "      <td>13</td>\n",
       "    </tr>\n",
       "    <tr>\n",
       "      <th>Student</th>\n",
       "      <td>56</td>\n",
       "      <td>202</td>\n",
       "      <td>19</td>\n",
       "      <td>18</td>\n",
       "      <td>0</td>\n",
       "    </tr>\n",
       "  </tbody>\n",
       "</table>\n",
       "</div>"
      ],
      "text/plain": [
       "                                                            Male  \\\n",
       "                                              Male upto 14 years   \n",
       "STATE/UT       Year CAUSE                                          \n",
       "ANDHRA PRADESH 2001 House Wife                                 0   \n",
       "                    Service (Government)                       0   \n",
       "                    Service (Private)                          1   \n",
       "                    Public Sector Undertaking                  0   \n",
       "                    Student                                   56   \n",
       "\n",
       "                                                                \\\n",
       "                                              Male 15-29 years   \n",
       "STATE/UT       Year CAUSE                                        \n",
       "ANDHRA PRADESH 2001 House Wife                               0   \n",
       "                    Service (Government)                    34   \n",
       "                    Service (Private)                      250   \n",
       "                    Public Sector Undertaking               32   \n",
       "                    Student                                202   \n",
       "\n",
       "                                                                \\\n",
       "                                              Male 30-44 years   \n",
       "STATE/UT       Year CAUSE                                        \n",
       "ANDHRA PRADESH 2001 House Wife                               0   \n",
       "                    Service (Government)                    57   \n",
       "                    Service (Private)                      275   \n",
       "                    Public Sector Undertaking               36   \n",
       "                    Student                                 19   \n",
       "\n",
       "                                                                \\\n",
       "                                              Male 45-59 years   \n",
       "STATE/UT       Year CAUSE                                        \n",
       "ANDHRA PRADESH 2001 House Wife                               0   \n",
       "                    Service (Government)                    44   \n",
       "                    Service (Private)                      138   \n",
       "                    Public Sector Undertaking               29   \n",
       "                    Student                                 18   \n",
       "\n",
       "                                                                       \n",
       "                                              Male 60 years and above  \n",
       "STATE/UT       Year CAUSE                                              \n",
       "ANDHRA PRADESH 2001 House Wife                                      0  \n",
       "                    Service (Government)                            0  \n",
       "                    Service (Private)                              10  \n",
       "                    Public Sector Undertaking                      13  \n",
       "                    Student                                         0  "
      ]
     },
     "execution_count": 331,
     "metadata": {},
     "output_type": "execute_result"
    }
   ],
   "source": [
    "data_to_add_male.head()"
   ]
  },
  {
   "cell_type": "code",
   "execution_count": 332,
   "metadata": {
    "collapsed": true
   },
   "outputs": [],
   "source": [
    "data_to_add = pd.concat([data_to_add_male,data_to_add_female], axis=1)"
   ]
  },
  {
   "cell_type": "code",
   "execution_count": 333,
   "metadata": {},
   "outputs": [
    {
     "data": {
      "text/html": [
       "<div>\n",
       "<style>\n",
       "    .dataframe thead tr:only-child th {\n",
       "        text-align: right;\n",
       "    }\n",
       "\n",
       "    .dataframe thead th {\n",
       "        text-align: left;\n",
       "    }\n",
       "\n",
       "    .dataframe tbody tr th {\n",
       "        vertical-align: top;\n",
       "    }\n",
       "</style>\n",
       "<table border=\"1\" class=\"dataframe\">\n",
       "  <thead>\n",
       "    <tr>\n",
       "      <th></th>\n",
       "      <th></th>\n",
       "      <th></th>\n",
       "      <th colspan=\"5\" halign=\"left\">Male</th>\n",
       "      <th colspan=\"5\" halign=\"left\">Female</th>\n",
       "    </tr>\n",
       "    <tr>\n",
       "      <th></th>\n",
       "      <th></th>\n",
       "      <th></th>\n",
       "      <th>Male upto 14 years</th>\n",
       "      <th>Male 15-29 years</th>\n",
       "      <th>Male 30-44 years</th>\n",
       "      <th>Male 45-59 years</th>\n",
       "      <th>Male 60 years and above</th>\n",
       "      <th>Female upto 14 years</th>\n",
       "      <th>Female 15-29 years</th>\n",
       "      <th>Female 30-44 years</th>\n",
       "      <th>Female 45-59 years</th>\n",
       "      <th>Female 60 years and above</th>\n",
       "    </tr>\n",
       "    <tr>\n",
       "      <th>STATE/UT</th>\n",
       "      <th>Year</th>\n",
       "      <th>CAUSE</th>\n",
       "      <th></th>\n",
       "      <th></th>\n",
       "      <th></th>\n",
       "      <th></th>\n",
       "      <th></th>\n",
       "      <th></th>\n",
       "      <th></th>\n",
       "      <th></th>\n",
       "      <th></th>\n",
       "      <th></th>\n",
       "    </tr>\n",
       "  </thead>\n",
       "  <tbody>\n",
       "    <tr>\n",
       "      <th rowspan=\"5\" valign=\"top\">ANDHRA PRADESH</th>\n",
       "      <th rowspan=\"5\" valign=\"top\">2001</th>\n",
       "      <th>House Wife</th>\n",
       "      <td>0</td>\n",
       "      <td>0</td>\n",
       "      <td>0</td>\n",
       "      <td>0</td>\n",
       "      <td>0</td>\n",
       "      <td>0</td>\n",
       "      <td>1132</td>\n",
       "      <td>811</td>\n",
       "      <td>397</td>\n",
       "      <td>104</td>\n",
       "    </tr>\n",
       "    <tr>\n",
       "      <th>Service (Government)</th>\n",
       "      <td>0</td>\n",
       "      <td>34</td>\n",
       "      <td>57</td>\n",
       "      <td>44</td>\n",
       "      <td>0</td>\n",
       "      <td>0</td>\n",
       "      <td>23</td>\n",
       "      <td>22</td>\n",
       "      <td>9</td>\n",
       "      <td>7</td>\n",
       "    </tr>\n",
       "    <tr>\n",
       "      <th>Service (Private)</th>\n",
       "      <td>1</td>\n",
       "      <td>250</td>\n",
       "      <td>275</td>\n",
       "      <td>138</td>\n",
       "      <td>10</td>\n",
       "      <td>5</td>\n",
       "      <td>43</td>\n",
       "      <td>24</td>\n",
       "      <td>28</td>\n",
       "      <td>6</td>\n",
       "    </tr>\n",
       "    <tr>\n",
       "      <th>Public Sector Undertaking</th>\n",
       "      <td>0</td>\n",
       "      <td>32</td>\n",
       "      <td>36</td>\n",
       "      <td>29</td>\n",
       "      <td>13</td>\n",
       "      <td>0</td>\n",
       "      <td>4</td>\n",
       "      <td>5</td>\n",
       "      <td>1</td>\n",
       "      <td>0</td>\n",
       "    </tr>\n",
       "    <tr>\n",
       "      <th>Student</th>\n",
       "      <td>56</td>\n",
       "      <td>202</td>\n",
       "      <td>19</td>\n",
       "      <td>18</td>\n",
       "      <td>0</td>\n",
       "      <td>46</td>\n",
       "      <td>115</td>\n",
       "      <td>5</td>\n",
       "      <td>9</td>\n",
       "      <td>0</td>\n",
       "    </tr>\n",
       "  </tbody>\n",
       "</table>\n",
       "</div>"
      ],
      "text/plain": [
       "                                                            Male  \\\n",
       "                                              Male upto 14 years   \n",
       "STATE/UT       Year CAUSE                                          \n",
       "ANDHRA PRADESH 2001 House Wife                                 0   \n",
       "                    Service (Government)                       0   \n",
       "                    Service (Private)                          1   \n",
       "                    Public Sector Undertaking                  0   \n",
       "                    Student                                   56   \n",
       "\n",
       "                                                                \\\n",
       "                                              Male 15-29 years   \n",
       "STATE/UT       Year CAUSE                                        \n",
       "ANDHRA PRADESH 2001 House Wife                               0   \n",
       "                    Service (Government)                    34   \n",
       "                    Service (Private)                      250   \n",
       "                    Public Sector Undertaking               32   \n",
       "                    Student                                202   \n",
       "\n",
       "                                                                \\\n",
       "                                              Male 30-44 years   \n",
       "STATE/UT       Year CAUSE                                        \n",
       "ANDHRA PRADESH 2001 House Wife                               0   \n",
       "                    Service (Government)                    57   \n",
       "                    Service (Private)                      275   \n",
       "                    Public Sector Undertaking               36   \n",
       "                    Student                                 19   \n",
       "\n",
       "                                                                \\\n",
       "                                              Male 45-59 years   \n",
       "STATE/UT       Year CAUSE                                        \n",
       "ANDHRA PRADESH 2001 House Wife                               0   \n",
       "                    Service (Government)                    44   \n",
       "                    Service (Private)                      138   \n",
       "                    Public Sector Undertaking               29   \n",
       "                    Student                                 18   \n",
       "\n",
       "                                                                       \\\n",
       "                                              Male 60 years and above   \n",
       "STATE/UT       Year CAUSE                                               \n",
       "ANDHRA PRADESH 2001 House Wife                                      0   \n",
       "                    Service (Government)                            0   \n",
       "                    Service (Private)                              10   \n",
       "                    Public Sector Undertaking                      13   \n",
       "                    Student                                         0   \n",
       "\n",
       "                                                            Female  \\\n",
       "                                              Female upto 14 years   \n",
       "STATE/UT       Year CAUSE                                            \n",
       "ANDHRA PRADESH 2001 House Wife                                   0   \n",
       "                    Service (Government)                         0   \n",
       "                    Service (Private)                            5   \n",
       "                    Public Sector Undertaking                    0   \n",
       "                    Student                                     46   \n",
       "\n",
       "                                                                  \\\n",
       "                                              Female 15-29 years   \n",
       "STATE/UT       Year CAUSE                                          \n",
       "ANDHRA PRADESH 2001 House Wife                              1132   \n",
       "                    Service (Government)                      23   \n",
       "                    Service (Private)                         43   \n",
       "                    Public Sector Undertaking                  4   \n",
       "                    Student                                  115   \n",
       "\n",
       "                                                                  \\\n",
       "                                              Female 30-44 years   \n",
       "STATE/UT       Year CAUSE                                          \n",
       "ANDHRA PRADESH 2001 House Wife                               811   \n",
       "                    Service (Government)                      22   \n",
       "                    Service (Private)                         24   \n",
       "                    Public Sector Undertaking                  5   \n",
       "                    Student                                    5   \n",
       "\n",
       "                                                                  \\\n",
       "                                              Female 45-59 years   \n",
       "STATE/UT       Year CAUSE                                          \n",
       "ANDHRA PRADESH 2001 House Wife                               397   \n",
       "                    Service (Government)                       9   \n",
       "                    Service (Private)                         28   \n",
       "                    Public Sector Undertaking                  1   \n",
       "                    Student                                    9   \n",
       "\n",
       "                                                                         \n",
       "                                              Female 60 years and above  \n",
       "STATE/UT       Year CAUSE                                                \n",
       "ANDHRA PRADESH 2001 House Wife                                      104  \n",
       "                    Service (Government)                              7  \n",
       "                    Service (Private)                                 6  \n",
       "                    Public Sector Undertaking                         0  \n",
       "                    Student                                           0  "
      ]
     },
     "execution_count": 333,
     "metadata": {},
     "output_type": "execute_result"
    }
   ],
   "source": [
    "data_to_add.head()"
   ]
  },
  {
   "cell_type": "code",
   "execution_count": 334,
   "metadata": {},
   "outputs": [
    {
     "data": {
      "text/html": [
       "<div>\n",
       "<style>\n",
       "    .dataframe thead tr:only-child th {\n",
       "        text-align: right;\n",
       "    }\n",
       "\n",
       "    .dataframe thead th {\n",
       "        text-align: left;\n",
       "    }\n",
       "\n",
       "    .dataframe tbody tr th {\n",
       "        vertical-align: top;\n",
       "    }\n",
       "</style>\n",
       "<table border=\"1\" class=\"dataframe\">\n",
       "  <thead>\n",
       "    <tr style=\"text-align: right;\">\n",
       "      <th></th>\n",
       "      <th>STATE/UT</th>\n",
       "      <th>Year</th>\n",
       "      <th>CAUSE</th>\n",
       "      <th>level_3</th>\n",
       "      <th>level_4</th>\n",
       "      <th>0</th>\n",
       "    </tr>\n",
       "  </thead>\n",
       "  <tbody>\n",
       "    <tr>\n",
       "      <th>0</th>\n",
       "      <td>ANDHRA PRADESH</td>\n",
       "      <td>2001</td>\n",
       "      <td>House Wife</td>\n",
       "      <td>Female</td>\n",
       "      <td>Female 15-29 years</td>\n",
       "      <td>1132.0</td>\n",
       "    </tr>\n",
       "    <tr>\n",
       "      <th>1</th>\n",
       "      <td>ANDHRA PRADESH</td>\n",
       "      <td>2001</td>\n",
       "      <td>House Wife</td>\n",
       "      <td>Female</td>\n",
       "      <td>Female 30-44 years</td>\n",
       "      <td>811.0</td>\n",
       "    </tr>\n",
       "    <tr>\n",
       "      <th>2</th>\n",
       "      <td>ANDHRA PRADESH</td>\n",
       "      <td>2001</td>\n",
       "      <td>House Wife</td>\n",
       "      <td>Female</td>\n",
       "      <td>Female 45-59 years</td>\n",
       "      <td>397.0</td>\n",
       "    </tr>\n",
       "    <tr>\n",
       "      <th>3</th>\n",
       "      <td>ANDHRA PRADESH</td>\n",
       "      <td>2001</td>\n",
       "      <td>House Wife</td>\n",
       "      <td>Female</td>\n",
       "      <td>Female 60 years and above</td>\n",
       "      <td>104.0</td>\n",
       "    </tr>\n",
       "    <tr>\n",
       "      <th>4</th>\n",
       "      <td>ANDHRA PRADESH</td>\n",
       "      <td>2001</td>\n",
       "      <td>House Wife</td>\n",
       "      <td>Female</td>\n",
       "      <td>Female upto 14 years</td>\n",
       "      <td>0.0</td>\n",
       "    </tr>\n",
       "  </tbody>\n",
       "</table>\n",
       "</div>"
      ],
      "text/plain": [
       "         STATE/UT  Year       CAUSE level_3                    level_4       0\n",
       "0  ANDHRA PRADESH  2001  House Wife  Female         Female 15-29 years  1132.0\n",
       "1  ANDHRA PRADESH  2001  House Wife  Female         Female 30-44 years   811.0\n",
       "2  ANDHRA PRADESH  2001  House Wife  Female         Female 45-59 years   397.0\n",
       "3  ANDHRA PRADESH  2001  House Wife  Female  Female 60 years and above   104.0\n",
       "4  ANDHRA PRADESH  2001  House Wife  Female       Female upto 14 years     0.0"
      ]
     },
     "execution_count": 334,
     "metadata": {},
     "output_type": "execute_result"
    }
   ],
   "source": [
    "data_to_add = DataFrame(data_to_add.stack(level=0).stack()).reset_index()\n",
    "data_to_add.head()"
   ]
  },
  {
   "cell_type": "code",
   "execution_count": 362,
   "metadata": {
    "collapsed": true
   },
   "outputs": [],
   "source": [
    "data_to_add = data_to_add.rename(index=str, columns={\"STATE/UT\": \"State\", \"CAUSE\": \"Type\",'level_3': 'Gender',0:'Total'})\n"
   ]
  },
  {
   "cell_type": "code",
   "execution_count": 363,
   "metadata": {
    "collapsed": true
   },
   "outputs": [],
   "source": [
    "data_to_add = data_to_add[(~(data_to_add.State.str.lower().str.contains('total'))) & (data_to_add.Total > 0)]"
   ]
  },
  {
   "cell_type": "code",
   "execution_count": 364,
   "metadata": {
    "collapsed": true
   },
   "outputs": [],
   "source": [
    "data_to_add.State = data_to_add.State.str.title()"
   ]
  },
  {
   "cell_type": "code",
   "execution_count": 365,
   "metadata": {
    "collapsed": true
   },
   "outputs": [],
   "source": [
    "data_to_add['Age_group'] = '0-100+'"
   ]
  },
  {
   "cell_type": "code",
   "execution_count": 338,
   "metadata": {},
   "outputs": [
    {
     "data": {
      "text/html": [
       "<div>\n",
       "<style>\n",
       "    .dataframe thead tr:only-child th {\n",
       "        text-align: right;\n",
       "    }\n",
       "\n",
       "    .dataframe thead th {\n",
       "        text-align: left;\n",
       "    }\n",
       "\n",
       "    .dataframe tbody tr th {\n",
       "        vertical-align: top;\n",
       "    }\n",
       "</style>\n",
       "<table border=\"1\" class=\"dataframe\">\n",
       "  <thead>\n",
       "    <tr style=\"text-align: right;\">\n",
       "      <th></th>\n",
       "      <th>State</th>\n",
       "      <th>Year</th>\n",
       "      <th>Type</th>\n",
       "      <th>Gender</th>\n",
       "      <th>Age_group</th>\n",
       "      <th>Total</th>\n",
       "    </tr>\n",
       "  </thead>\n",
       "  <tbody>\n",
       "    <tr>\n",
       "      <th>0</th>\n",
       "      <td>Andhra Pradesh</td>\n",
       "      <td>2001</td>\n",
       "      <td>House Wife</td>\n",
       "      <td>Female</td>\n",
       "      <td>15-29</td>\n",
       "      <td>1132.0</td>\n",
       "    </tr>\n",
       "    <tr>\n",
       "      <th>1</th>\n",
       "      <td>Andhra Pradesh</td>\n",
       "      <td>2001</td>\n",
       "      <td>House Wife</td>\n",
       "      <td>Female</td>\n",
       "      <td>30-44</td>\n",
       "      <td>811.0</td>\n",
       "    </tr>\n",
       "    <tr>\n",
       "      <th>2</th>\n",
       "      <td>Andhra Pradesh</td>\n",
       "      <td>2001</td>\n",
       "      <td>House Wife</td>\n",
       "      <td>Female</td>\n",
       "      <td>45-59</td>\n",
       "      <td>397.0</td>\n",
       "    </tr>\n",
       "    <tr>\n",
       "      <th>3</th>\n",
       "      <td>Andhra Pradesh</td>\n",
       "      <td>2001</td>\n",
       "      <td>House Wife</td>\n",
       "      <td>Female</td>\n",
       "      <td>60+</td>\n",
       "      <td>104.0</td>\n",
       "    </tr>\n",
       "    <tr>\n",
       "      <th>10</th>\n",
       "      <td>Andhra Pradesh</td>\n",
       "      <td>2001</td>\n",
       "      <td>Service (Government)</td>\n",
       "      <td>Female</td>\n",
       "      <td>15-29</td>\n",
       "      <td>23.0</td>\n",
       "    </tr>\n",
       "  </tbody>\n",
       "</table>\n",
       "</div>"
      ],
      "text/plain": [
       "             State  Year                  Type  Gender Age_group   Total\n",
       "0   Andhra Pradesh  2001            House Wife  Female     15-29  1132.0\n",
       "1   Andhra Pradesh  2001            House Wife  Female     30-44   811.0\n",
       "2   Andhra Pradesh  2001            House Wife  Female     45-59   397.0\n",
       "3   Andhra Pradesh  2001            House Wife  Female       60+   104.0\n",
       "10  Andhra Pradesh  2001  Service (Government)  Female     15-29    23.0"
      ]
     },
     "execution_count": 338,
     "metadata": {},
     "output_type": "execute_result"
    }
   ],
   "source": [
    "data_to_add.Age_group = data_to_add.Age_group.str.replace('Female ','')\n",
    "data_to_add.Age_group = data_to_add.Age_group.str.replace('Male ','')\n",
    "data_to_add.Age_group = data_to_add.Age_group.str.replace(' years','')\n",
    "data_to_add.Age_group = data_to_add.Age_group.str.replace('upto ','0-')\n",
    "data_to_add.Age_group = data_to_add.Age_group.str.replace(' and above','+').str.strip()\n",
    "data_to_add.head()"
   ]
  },
  {
   "cell_type": "code",
   "execution_count": 339,
   "metadata": {},
   "outputs": [
    {
     "data": {
      "text/plain": [
       "array(['Means_adopted', 'Social_Status', 'Causes', 'Professional_Profile',\n",
       "       'Education_Status'], dtype=object)"
      ]
     },
     "execution_count": 339,
     "metadata": {},
     "output_type": "execute_result"
    }
   ],
   "source": [
    "data.Type_code.unique()"
   ]
  },
  {
   "cell_type": "code",
   "execution_count": 366,
   "metadata": {},
   "outputs": [
    {
     "data": {
      "text/html": [
       "<div>\n",
       "<style>\n",
       "    .dataframe thead tr:only-child th {\n",
       "        text-align: right;\n",
       "    }\n",
       "\n",
       "    .dataframe thead th {\n",
       "        text-align: left;\n",
       "    }\n",
       "\n",
       "    .dataframe tbody tr th {\n",
       "        vertical-align: top;\n",
       "    }\n",
       "</style>\n",
       "<table border=\"1\" class=\"dataframe\">\n",
       "  <thead>\n",
       "    <tr style=\"text-align: right;\">\n",
       "      <th></th>\n",
       "      <th>State</th>\n",
       "      <th>Year</th>\n",
       "      <th>Type</th>\n",
       "      <th>Gender</th>\n",
       "      <th>Total</th>\n",
       "      <th>Age_group</th>\n",
       "      <th>Type_code</th>\n",
       "    </tr>\n",
       "  </thead>\n",
       "  <tbody>\n",
       "    <tr>\n",
       "      <th>0</th>\n",
       "      <td>Andhra Pradesh</td>\n",
       "      <td>2001</td>\n",
       "      <td>Never Married</td>\n",
       "      <td>Male</td>\n",
       "      <td>819</td>\n",
       "      <td>0-100+</td>\n",
       "      <td>Social_Status</td>\n",
       "    </tr>\n",
       "    <tr>\n",
       "      <th>1</th>\n",
       "      <td>Andhra Pradesh</td>\n",
       "      <td>2001</td>\n",
       "      <td>Never Married</td>\n",
       "      <td>Female</td>\n",
       "      <td>591</td>\n",
       "      <td>0-100+</td>\n",
       "      <td>Social_Status</td>\n",
       "    </tr>\n",
       "    <tr>\n",
       "      <th>2</th>\n",
       "      <td>Andhra Pradesh</td>\n",
       "      <td>2001</td>\n",
       "      <td>Married</td>\n",
       "      <td>Male</td>\n",
       "      <td>5135</td>\n",
       "      <td>0-100+</td>\n",
       "      <td>Social_Status</td>\n",
       "    </tr>\n",
       "    <tr>\n",
       "      <th>3</th>\n",
       "      <td>Andhra Pradesh</td>\n",
       "      <td>2001</td>\n",
       "      <td>Married</td>\n",
       "      <td>Female</td>\n",
       "      <td>3135</td>\n",
       "      <td>0-100+</td>\n",
       "      <td>Social_Status</td>\n",
       "    </tr>\n",
       "    <tr>\n",
       "      <th>4</th>\n",
       "      <td>Andhra Pradesh</td>\n",
       "      <td>2001</td>\n",
       "      <td>Widowed/Widower</td>\n",
       "      <td>Male</td>\n",
       "      <td>183</td>\n",
       "      <td>0-100+</td>\n",
       "      <td>Social_Status</td>\n",
       "    </tr>\n",
       "  </tbody>\n",
       "</table>\n",
       "</div>"
      ],
      "text/plain": [
       "            State  Year             Type  Gender  Total Age_group  \\\n",
       "0  Andhra Pradesh  2001    Never Married    Male    819    0-100+   \n",
       "1  Andhra Pradesh  2001    Never Married  Female    591    0-100+   \n",
       "2  Andhra Pradesh  2001          Married    Male   5135    0-100+   \n",
       "3  Andhra Pradesh  2001          Married  Female   3135    0-100+   \n",
       "4  Andhra Pradesh  2001  Widowed/Widower    Male    183    0-100+   \n",
       "\n",
       "       Type_code  \n",
       "0  Social_Status  \n",
       "1  Social_Status  \n",
       "2  Social_Status  \n",
       "3  Social_Status  \n",
       "4  Social_Status  "
      ]
     },
     "execution_count": 366,
     "metadata": {},
     "output_type": "execute_result"
    }
   ],
   "source": [
    "data_to_add['Type_code'] = 'Social_Status'\n",
    "data_to_add.head()"
   ]
  },
  {
   "cell_type": "code",
   "execution_count": 367,
   "metadata": {},
   "outputs": [
    {
     "data": {
      "text/html": [
       "<div>\n",
       "<style>\n",
       "    .dataframe thead tr:only-child th {\n",
       "        text-align: right;\n",
       "    }\n",
       "\n",
       "    .dataframe thead th {\n",
       "        text-align: left;\n",
       "    }\n",
       "\n",
       "    .dataframe tbody tr th {\n",
       "        vertical-align: top;\n",
       "    }\n",
       "</style>\n",
       "<table border=\"1\" class=\"dataframe\">\n",
       "  <thead>\n",
       "    <tr style=\"text-align: right;\">\n",
       "      <th></th>\n",
       "      <th>Age_group</th>\n",
       "      <th>Gender</th>\n",
       "      <th>State</th>\n",
       "      <th>Total</th>\n",
       "      <th>Type</th>\n",
       "      <th>Type_code</th>\n",
       "      <th>Year</th>\n",
       "    </tr>\n",
       "  </thead>\n",
       "  <tbody>\n",
       "    <tr>\n",
       "      <th>101110</th>\n",
       "      <td>15-29</td>\n",
       "      <td>Female</td>\n",
       "      <td>Andhra Pradesh</td>\n",
       "      <td>3.0</td>\n",
       "      <td>By Over Alcoholism</td>\n",
       "      <td>Means_adopted</td>\n",
       "      <td>2013</td>\n",
       "    </tr>\n",
       "    <tr>\n",
       "      <th>101111</th>\n",
       "      <td>30-44</td>\n",
       "      <td>Female</td>\n",
       "      <td>Andhra Pradesh</td>\n",
       "      <td>1.0</td>\n",
       "      <td>By Over Alcoholism</td>\n",
       "      <td>Means_adopted</td>\n",
       "      <td>2013</td>\n",
       "    </tr>\n",
       "    <tr>\n",
       "      <th>101112</th>\n",
       "      <td>45-59</td>\n",
       "      <td>Female</td>\n",
       "      <td>Andhra Pradesh</td>\n",
       "      <td>1.0</td>\n",
       "      <td>By Over Alcoholism</td>\n",
       "      <td>Means_adopted</td>\n",
       "      <td>2013</td>\n",
       "    </tr>\n",
       "    <tr>\n",
       "      <th>101113</th>\n",
       "      <td>15-29</td>\n",
       "      <td>Male</td>\n",
       "      <td>Andhra Pradesh</td>\n",
       "      <td>38.0</td>\n",
       "      <td>By Over Alcoholism</td>\n",
       "      <td>Means_adopted</td>\n",
       "      <td>2013</td>\n",
       "    </tr>\n",
       "    <tr>\n",
       "      <th>101114</th>\n",
       "      <td>30-44</td>\n",
       "      <td>Male</td>\n",
       "      <td>Andhra Pradesh</td>\n",
       "      <td>86.0</td>\n",
       "      <td>By Over Alcoholism</td>\n",
       "      <td>Means_adopted</td>\n",
       "      <td>2013</td>\n",
       "    </tr>\n",
       "  </tbody>\n",
       "</table>\n",
       "</div>"
      ],
      "text/plain": [
       "       Age_group  Gender           State  Total                Type  \\\n",
       "101110     15-29  Female  Andhra Pradesh    3.0  By Over Alcoholism   \n",
       "101111     30-44  Female  Andhra Pradesh    1.0  By Over Alcoholism   \n",
       "101112     45-59  Female  Andhra Pradesh    1.0  By Over Alcoholism   \n",
       "101113     15-29    Male  Andhra Pradesh   38.0  By Over Alcoholism   \n",
       "101114     30-44    Male  Andhra Pradesh   86.0  By Over Alcoholism   \n",
       "\n",
       "            Type_code  Year  \n",
       "101110  Means_adopted  2013  \n",
       "101111  Means_adopted  2013  \n",
       "101112  Means_adopted  2013  \n",
       "101113  Means_adopted  2013  \n",
       "101114  Means_adopted  2013  "
      ]
     },
     "execution_count": 367,
     "metadata": {},
     "output_type": "execute_result"
    }
   ],
   "source": [
    "data = pd.concat([data,data_to_add]) \n",
    "data.head()"
   ]
  },
  {
   "cell_type": "code",
   "execution_count": 368,
   "metadata": {},
   "outputs": [
    {
     "data": {
      "text/plain": [
       "array(['Means_adopted', 'Social_Status', 'Education_Status',\n",
       "       'Professional_Profile', 'Causes'], dtype=object)"
      ]
     },
     "execution_count": 368,
     "metadata": {},
     "output_type": "execute_result"
    }
   ],
   "source": [
    "data[data.Year == 2014].Type_code.unique()"
   ]
  },
  {
   "cell_type": "code",
   "execution_count": 369,
   "metadata": {},
   "outputs": [
    {
     "data": {
      "text/plain": [
       "array([2013, 2014, 2001, 2002, 2003, 2004, 2005, 2006, 2007, 2008, 2009,\n",
       "       2010, 2011, 2012])"
      ]
     },
     "execution_count": 369,
     "metadata": {},
     "output_type": "execute_result"
    }
   ],
   "source": [
    "data.Year.unique()"
   ]
  },
  {
   "cell_type": "code",
   "execution_count": 370,
   "metadata": {
    "collapsed": true
   },
   "outputs": [],
   "source": [
    "data.to_csv('Suicides_in_India-2001-2014_newest.csv')"
   ]
  },
  {
   "cell_type": "code",
   "execution_count": 371,
   "metadata": {},
   "outputs": [
    {
     "data": {
      "text/plain": [
       "array(['Andhra Pradesh', 'Arunachal Pradesh', 'Assam', 'Bihar',\n",
       "       'Chhattisgarh', 'Goa', 'Gujarat', 'Haryana', 'Himachal Pradesh',\n",
       "       'Jammu & Kashmir', 'Jharkhand', 'Karnataka', 'Kerala',\n",
       "       'Madhya Pradesh', 'Maharashtra', 'Manipur', 'Meghalaya', 'Mizoram',\n",
       "       'Nagaland', 'Odisha', 'Punjab', 'Rajasthan', 'Sikkim', 'Tamil Nadu',\n",
       "       'Tripura', 'Uttar Pradesh', 'Uttarakhand', 'West Bengal',\n",
       "       'A & N Islands', 'Chandigarh', 'D & N Haveli', 'Daman & Diu',\n",
       "       'Delhi (Ut)', 'Lakshadweep', 'Puducherry'], dtype=object)"
      ]
     },
     "execution_count": 371,
     "metadata": {},
     "output_type": "execute_result"
    }
   ],
   "source": [
    "data.State.unique()"
   ]
  },
  {
   "cell_type": "code",
   "execution_count": 396,
   "metadata": {},
   "outputs": [
    {
     "data": {
      "text/plain": [
       "Year  Type_code           \n",
       "2001  Causes                  108506.0\n",
       "      Education_Status        108506.0\n",
       "      Means_adopted           108506.0\n",
       "      Professional_Profile    108506.0\n",
       "      Social_Status           108506.0\n",
       "2002  Causes                  110417.0\n",
       "      Education_Status        110417.0\n",
       "      Means_adopted           110417.0\n",
       "      Professional_Profile    110417.0\n",
       "      Social_Status           110417.0\n",
       "2003  Causes                  110851.0\n",
       "      Education_Status        110851.0\n",
       "      Means_adopted           110851.0\n",
       "      Professional_Profile    110851.0\n",
       "      Social_Status           110851.0\n",
       "2004  Causes                  113697.0\n",
       "      Education_Status        113697.0\n",
       "      Means_adopted           113697.0\n",
       "      Professional_Profile    113697.0\n",
       "      Social_Status           113697.0\n",
       "2005  Causes                  113914.0\n",
       "      Education_Status        113914.0\n",
       "      Means_adopted           113914.0\n",
       "      Professional_Profile    113914.0\n",
       "      Social_Status           113914.0\n",
       "2006  Causes                  118112.0\n",
       "      Education_Status        118112.0\n",
       "      Means_adopted           118112.0\n",
       "      Professional_Profile    118112.0\n",
       "      Social_Status           118112.0\n",
       "                                ...   \n",
       "2009  Causes                  127151.0\n",
       "      Education_Status        127151.0\n",
       "      Means_adopted           127151.0\n",
       "      Professional_Profile    127151.0\n",
       "      Social_Status           127151.0\n",
       "2010  Causes                  134599.0\n",
       "      Education_Status        134599.0\n",
       "      Means_adopted           134599.0\n",
       "      Professional_Profile    134599.0\n",
       "      Social_Status           134599.0\n",
       "2011  Causes                  135585.0\n",
       "      Education_Status        135585.0\n",
       "      Means_adopted           135585.0\n",
       "      Professional_Profile    135585.0\n",
       "      Social_Status           135585.0\n",
       "2012  Causes                  120488.0\n",
       "      Education_Status        135445.0\n",
       "      Means_adopted           135445.0\n",
       "      Professional_Profile    120488.0\n",
       "      Social_Status           135445.0\n",
       "2013  Causes                  134799.0\n",
       "      Education_Status        134799.0\n",
       "      Means_adopted           134799.0\n",
       "      Professional_Profile    134799.0\n",
       "      Social_Status           134799.0\n",
       "2014  Causes                  131650.0\n",
       "      Education_Status        131650.0\n",
       "      Means_adopted           131650.0\n",
       "      Professional_Profile    131650.0\n",
       "      Social_Status           131650.0\n",
       "Name: Total, Length: 70, dtype: float64"
      ]
     },
     "execution_count": 396,
     "metadata": {},
     "output_type": "execute_result"
    }
   ],
   "source": [
    "data.groupby(['Year','Type_code']).Total.sum()"
   ]
  },
  {
   "cell_type": "code",
   "execution_count": 397,
   "metadata": {},
   "outputs": [
    {
     "data": {
      "text/plain": [
       "Type_code\n",
       "Causes                  1586935.0\n",
       "Education_Status        1586935.0\n",
       "Means_adopted           1586935.0\n",
       "Professional_Profile    1586935.0\n",
       "Social_Status           1586935.0\n",
       "Name: Total, dtype: float64"
      ]
     },
     "execution_count": 397,
     "metadata": {},
     "output_type": "execute_result"
    }
   ],
   "source": [
    "data[~(data.Year.isin([2012]))].groupby('Type_code').Total.sum()"
   ]
  },
  {
   "cell_type": "code",
   "execution_count": 422,
   "metadata": {},
   "outputs": [
    {
     "data": {
      "text/plain": [
       "14957"
      ]
     },
     "execution_count": 422,
     "metadata": {},
     "output_type": "execute_result"
    }
   ],
   "source": [
    "n = 1722380-1707423\n",
    "n"
   ]
  },
  {
   "cell_type": "code",
   "execution_count": 374,
   "metadata": {
    "collapsed": true
   },
   "outputs": [],
   "source": [
    "data.Type = data.Type.str.title()"
   ]
  },
  {
   "cell_type": "code",
   "execution_count": 376,
   "metadata": {
    "collapsed": true
   },
   "outputs": [],
   "source": [
    "data = data[(~(data.Type.str.lower().str.contains('total')))]"
   ]
  },
  {
   "cell_type": "code",
   "execution_count": 389,
   "metadata": {},
   "outputs": [],
   "source": [
    "es = data[data.Type_code == 'Education_Status'].groupby('Type').Total.sum()\n",
    "ma = data[data.Type_code == 'Means_adopted'].groupby('Type').Total.sum()\n",
    "ca = data[data.Type_code == 'Causes'].groupby('Type').Total.sum()\n",
    "pp = data[data.Type_code == 'Professional_Profile'].groupby('Type').Total.sum()\n",
    "ss = data[data.Type_code == 'Social_Status'].groupby('Type').Total.sum()"
   ]
  },
  {
   "cell_type": "code",
   "execution_count": 395,
   "metadata": {},
   "outputs": [
    {
     "data": {
      "text/plain": [
       "13341.0"
      ]
     },
     "execution_count": 395,
     "metadata": {},
     "output_type": "execute_result"
    }
   ],
   "source": [
    "ss[ss <= n].sum()"
   ]
  },
  {
   "cell_type": "code",
   "execution_count": 398,
   "metadata": {
    "collapsed": true
   },
   "outputs": [],
   "source": [
    "causes_2012 = DataFrame.from_csv('Suicides_by_causes_state_2001-2012.csv')"
   ]
  },
  {
   "cell_type": "code",
   "execution_count": 400,
   "metadata": {},
   "outputs": [],
   "source": [
    "causes_2012 = causes_2012[causes_2012.Year == 2012]"
   ]
  },
  {
   "cell_type": "code",
   "execution_count": 409,
   "metadata": {},
   "outputs": [
    {
     "data": {
      "text/html": [
       "<div>\n",
       "<style>\n",
       "    .dataframe thead tr:only-child th {\n",
       "        text-align: right;\n",
       "    }\n",
       "\n",
       "    .dataframe thead th {\n",
       "        text-align: left;\n",
       "    }\n",
       "\n",
       "    .dataframe tbody tr th {\n",
       "        vertical-align: top;\n",
       "    }\n",
       "</style>\n",
       "<table border=\"1\" class=\"dataframe\">\n",
       "  <thead>\n",
       "    <tr style=\"text-align: right;\">\n",
       "      <th></th>\n",
       "      <th>STATE/UT</th>\n",
       "      <th>Year</th>\n",
       "      <th>CAUSE</th>\n",
       "      <th>Male upto 14 years</th>\n",
       "      <th>Male 15-29 years</th>\n",
       "      <th>Male 30-44 years</th>\n",
       "      <th>Male 45-59 years</th>\n",
       "      <th>Male 60 years and above</th>\n",
       "      <th>Total Male</th>\n",
       "      <th>Female upto 14 years</th>\n",
       "      <th>Female 15-29 years</th>\n",
       "      <th>Female 30-44 years</th>\n",
       "      <th>Female 45-59 years</th>\n",
       "      <th>Female 60 years and above</th>\n",
       "      <th>Total Female</th>\n",
       "      <th>Grand Total</th>\n",
       "    </tr>\n",
       "  </thead>\n",
       "  <tbody>\n",
       "    <tr>\n",
       "      <th>0</th>\n",
       "      <td>Andhra Pradesh</td>\n",
       "      <td>2012</td>\n",
       "      <td>Bankruptcy or Sudden change in Economic</td>\n",
       "      <td>1.0</td>\n",
       "      <td>144</td>\n",
       "      <td>400</td>\n",
       "      <td>185</td>\n",
       "      <td>55</td>\n",
       "      <td>785</td>\n",
       "      <td>0.0</td>\n",
       "      <td>32</td>\n",
       "      <td>48</td>\n",
       "      <td>25</td>\n",
       "      <td>16</td>\n",
       "      <td>121</td>\n",
       "      <td>906.0</td>\n",
       "    </tr>\n",
       "    <tr>\n",
       "      <th>1</th>\n",
       "      <td>Andhra Pradesh</td>\n",
       "      <td>2012</td>\n",
       "      <td>Suspected/Illicit Relation</td>\n",
       "      <td>0.0</td>\n",
       "      <td>24</td>\n",
       "      <td>21</td>\n",
       "      <td>4</td>\n",
       "      <td>0</td>\n",
       "      <td>49</td>\n",
       "      <td>1.0</td>\n",
       "      <td>51</td>\n",
       "      <td>30</td>\n",
       "      <td>5</td>\n",
       "      <td>0</td>\n",
       "      <td>87</td>\n",
       "      <td>136.0</td>\n",
       "    </tr>\n",
       "    <tr>\n",
       "      <th>2</th>\n",
       "      <td>Andhra Pradesh</td>\n",
       "      <td>2012</td>\n",
       "      <td>Cancellation/Non-Settlement of Marriage</td>\n",
       "      <td>0.0</td>\n",
       "      <td>30</td>\n",
       "      <td>9</td>\n",
       "      <td>1</td>\n",
       "      <td>0</td>\n",
       "      <td>40</td>\n",
       "      <td>0.0</td>\n",
       "      <td>28</td>\n",
       "      <td>11</td>\n",
       "      <td>4</td>\n",
       "      <td>3</td>\n",
       "      <td>46</td>\n",
       "      <td>86.0</td>\n",
       "    </tr>\n",
       "    <tr>\n",
       "      <th>3</th>\n",
       "      <td>Andhra Pradesh</td>\n",
       "      <td>2012</td>\n",
       "      <td>Not having Children(Barrenness/Impotency</td>\n",
       "      <td>0.0</td>\n",
       "      <td>4</td>\n",
       "      <td>9</td>\n",
       "      <td>1</td>\n",
       "      <td>1</td>\n",
       "      <td>15</td>\n",
       "      <td>0.0</td>\n",
       "      <td>36</td>\n",
       "      <td>36</td>\n",
       "      <td>6</td>\n",
       "      <td>0</td>\n",
       "      <td>78</td>\n",
       "      <td>93.0</td>\n",
       "    </tr>\n",
       "    <tr>\n",
       "      <th>4</th>\n",
       "      <td>Andhra Pradesh</td>\n",
       "      <td>2012</td>\n",
       "      <td>Illness (Aids/STD)</td>\n",
       "      <td>0.0</td>\n",
       "      <td>21</td>\n",
       "      <td>53</td>\n",
       "      <td>20</td>\n",
       "      <td>9</td>\n",
       "      <td>103</td>\n",
       "      <td>0.0</td>\n",
       "      <td>10</td>\n",
       "      <td>12</td>\n",
       "      <td>11</td>\n",
       "      <td>9</td>\n",
       "      <td>42</td>\n",
       "      <td>145.0</td>\n",
       "    </tr>\n",
       "  </tbody>\n",
       "</table>\n",
       "</div>"
      ],
      "text/plain": [
       "         STATE/UT  Year                                     CAUSE  \\\n",
       "0  Andhra Pradesh  2012   Bankruptcy or Sudden change in Economic   \n",
       "1  Andhra Pradesh  2012                Suspected/Illicit Relation   \n",
       "2  Andhra Pradesh  2012   Cancellation/Non-Settlement of Marriage   \n",
       "3  Andhra Pradesh  2012  Not having Children(Barrenness/Impotency   \n",
       "4  Andhra Pradesh  2012                        Illness (Aids/STD)   \n",
       "\n",
       "   Male upto 14 years  Male 15-29 years  Male 30-44 years  Male 45-59 years  \\\n",
       "0                 1.0               144               400               185   \n",
       "1                 0.0                24                21                 4   \n",
       "2                 0.0                30                 9                 1   \n",
       "3                 0.0                 4                 9                 1   \n",
       "4                 0.0                21                53                20   \n",
       "\n",
       "   Male 60 years and above  Total Male  Female upto 14 years  \\\n",
       "0                       55         785                   0.0   \n",
       "1                        0          49                   1.0   \n",
       "2                        0          40                   0.0   \n",
       "3                        1          15                   0.0   \n",
       "4                        9         103                   0.0   \n",
       "\n",
       "   Female 15-29 years  Female 30-44 years  Female 45-59 years  \\\n",
       "0                  32                  48                  25   \n",
       "1                  51                  30                   5   \n",
       "2                  28                  11                   4   \n",
       "3                  36                  36                   6   \n",
       "4                  10                  12                  11   \n",
       "\n",
       "   Female 60 years and above  Total Female  Grand Total  \n",
       "0                         16           121        906.0  \n",
       "1                          0            87        136.0  \n",
       "2                          3            46         86.0  \n",
       "3                          0            78         93.0  \n",
       "4                          9            42        145.0  "
      ]
     },
     "execution_count": 409,
     "metadata": {},
     "output_type": "execute_result"
    }
   ],
   "source": [
    "causes_2012.head()"
   ]
  },
  {
   "cell_type": "code",
   "execution_count": 414,
   "metadata": {},
   "outputs": [
    {
     "data": {
      "text/plain": [
       "266092.0"
      ]
     },
     "execution_count": 414,
     "metadata": {},
     "output_type": "execute_result"
    }
   ],
   "source": [
    "causes_2012['Grand Total'].sum()"
   ]
  },
  {
   "cell_type": "code",
   "execution_count": 407,
   "metadata": {},
   "outputs": [],
   "source": [
    "causes_2012 = causes_2012.reset_index()"
   ]
  },
  {
   "cell_type": "code",
   "execution_count": 408,
   "metadata": {
    "collapsed": true
   },
   "outputs": [],
   "source": [
    "causes_2012['STATE/UT'] = causes_2012['STATE/UT'].str.title()"
   ]
  },
  {
   "cell_type": "code",
   "execution_count": 413,
   "metadata": {},
   "outputs": [],
   "source": [
    "causes_2012 = causes_2012[~causes_2012['STATE/UT'].str.lower().str.contains('total')]"
   ]
  },
  {
   "cell_type": "code",
   "execution_count": 419,
   "metadata": {},
   "outputs": [
    {
     "data": {
      "text/plain": [
       "120488.0"
      ]
     },
     "execution_count": 419,
     "metadata": {},
     "output_type": "execute_result"
    }
   ],
   "source": [
    "causes_2012[causes_2012['CAUSE'].str.lower() == 'total']['Grand Total'].sum()"
   ]
  },
  {
   "cell_type": "code",
   "execution_count": 420,
   "metadata": {
    "collapsed": true
   },
   "outputs": [],
   "source": [
    "data_2012 = data[data.Year == 2012]"
   ]
  },
  {
   "cell_type": "code",
   "execution_count": 421,
   "metadata": {},
   "outputs": [
    {
     "data": {
      "text/plain": [
       "State              Type_code           \n",
       "A & N Islands      Causes                    121.0\n",
       "                   Education_Status          121.0\n",
       "                   Means_adopted             121.0\n",
       "                   Professional_Profile      121.0\n",
       "                   Social_Status             121.0\n",
       "Andhra Pradesh     Causes                  14238.0\n",
       "                   Education_Status        14238.0\n",
       "                   Means_adopted           14238.0\n",
       "                   Professional_Profile    14238.0\n",
       "                   Social_Status           14238.0\n",
       "Arunachal Pradesh  Causes                    130.0\n",
       "                   Education_Status          130.0\n",
       "                   Means_adopted             130.0\n",
       "                   Professional_Profile      130.0\n",
       "                   Social_Status             130.0\n",
       "Assam              Causes                   3264.0\n",
       "                   Education_Status         3264.0\n",
       "                   Means_adopted            3264.0\n",
       "                   Professional_Profile     3264.0\n",
       "                   Social_Status            3264.0\n",
       "Bihar              Causes                    759.0\n",
       "                   Education_Status          759.0\n",
       "                   Means_adopted             759.0\n",
       "                   Professional_Profile      759.0\n",
       "                   Social_Status             759.0\n",
       "Chandigarh         Causes                    114.0\n",
       "                   Education_Status          114.0\n",
       "                   Means_adopted             114.0\n",
       "                   Professional_Profile      114.0\n",
       "                   Social_Status             114.0\n",
       "                                            ...   \n",
       "Rajasthan          Professional_Profile     4821.0\n",
       "                   Social_Status            4821.0\n",
       "Sikkim             Causes                    181.0\n",
       "                   Education_Status          181.0\n",
       "                   Means_adopted             181.0\n",
       "                   Professional_Profile      181.0\n",
       "                   Social_Status             181.0\n",
       "Tamil Nadu         Causes                  16927.0\n",
       "                   Education_Status        16927.0\n",
       "                   Means_adopted           16927.0\n",
       "                   Professional_Profile    16927.0\n",
       "                   Social_Status           16927.0\n",
       "Tripura            Causes                    844.0\n",
       "                   Education_Status          844.0\n",
       "                   Means_adopted             844.0\n",
       "                   Professional_Profile      844.0\n",
       "                   Social_Status             844.0\n",
       "Uttar Pradesh      Causes                   4422.0\n",
       "                   Education_Status         4422.0\n",
       "                   Means_adopted            4422.0\n",
       "                   Professional_Profile     4422.0\n",
       "                   Social_Status            4422.0\n",
       "Uttarakhand        Causes                    424.0\n",
       "                   Education_Status          424.0\n",
       "                   Means_adopted             424.0\n",
       "                   Professional_Profile      424.0\n",
       "                   Social_Status             424.0\n",
       "West Bengal        Education_Status        14957.0\n",
       "                   Means_adopted           14957.0\n",
       "                   Social_Status           14957.0\n",
       "Name: Total, Length: 173, dtype: float64"
      ]
     },
     "execution_count": 421,
     "metadata": {},
     "output_type": "execute_result"
    }
   ],
   "source": [
    "data_2012.groupby(['State','Type_code']).Total.sum()"
   ]
  },
  {
   "cell_type": "code",
   "execution_count": 425,
   "metadata": {},
   "outputs": [
    {
     "data": {
      "text/plain": [
       "array(['15-29', '30-44', '45-59', '60+', '0-14', '14-29', '30-45', '45-60',\n",
       "       '0-100+'], dtype=object)"
      ]
     },
     "execution_count": 425,
     "metadata": {},
     "output_type": "execute_result"
    }
   ],
   "source": [
    "data.Age_group.unique()"
   ]
  },
  {
   "cell_type": "code",
   "execution_count": 427,
   "metadata": {},
   "outputs": [],
   "source": [
    "data.loc[data.Age_group == '14-29','Age_group'] = '15-29'"
   ]
  },
  {
   "cell_type": "code",
   "execution_count": 442,
   "metadata": {},
   "outputs": [
    {
     "data": {
      "text/plain": [
       "array(['Means_adopted', 'Social_Status', 'Causes', 'Professional_Profile',\n",
       "       'Education_Status'], dtype=object)"
      ]
     },
     "execution_count": 442,
     "metadata": {},
     "output_type": "execute_result"
    }
   ],
   "source": [
    "data.Type_code.unique()"
   ]
  },
  {
   "cell_type": "code",
   "execution_count": 458,
   "metadata": {},
   "outputs": [
    {
     "data": {
      "text/plain": [
       "['Diploma/Certificate',\n",
       " 'Graduate And Above',\n",
       " 'Higher Secondary/ Intermediate/ Pre-University (Upto Class-12)',\n",
       " 'Matriculate/Secondary (Upto Class-10)',\n",
       " 'Middle (Upto Class-8)',\n",
       " 'No Education',\n",
       " 'Post Graduate And Above',\n",
       " 'Primary (Upto Class-5)',\n",
       " 'Professionals (Mba; Etc.)',\n",
       " 'Status Not Known']"
      ]
     },
     "execution_count": 458,
     "metadata": {},
     "output_type": "execute_result"
    }
   ],
   "source": [
    "sorted(data[data.Type_code=='Education_Status'].Type.unique())"
   ]
  },
  {
   "cell_type": "code",
   "execution_count": 457,
   "metadata": {
    "collapsed": true
   },
   "outputs": [],
   "source": [
    "data.Type.replace('Diploma','Diploma/Certificate',inplace=True)\n",
    "data.Type.replace('Diploma/Iti/Certificate','Diploma/Certificate',inplace=True)\n",
    "data.Type.replace('Graduate','Graduate And Above',inplace=True)\n",
    "data.Type.replace('Hr. Secondary/Intermediate/Pre-Universit','Higher Secondary/ Intermediate/ Pre-University (Upto Class-12)',inplace=True)\n",
    "data.Type.replace('Hr. Secondary/Intermediate/Pre-University','Higher Secondary/ Intermediate/ Pre-University (Upto Class-12)',inplace=True)\n",
    "data.Type.replace('Matriculate/Secondary','Matriculate/Secondary (Upto Class-10)',inplace=True)\n",
    "data.Type.replace('Middle','Middle (Upto Class-8)',inplace=True)\n",
    "data.Type.replace('Primary','Primary (Upto Class-5)',inplace=True)"
   ]
  },
  {
   "cell_type": "code",
   "execution_count": 454,
   "metadata": {},
   "outputs": [],
   "source": [
    "data.Type.replace('House Wife','Housewife',inplace=True)"
   ]
  },
  {
   "cell_type": "code",
   "execution_count": 451,
   "metadata": {
    "collapsed": true
   },
   "outputs": [],
   "source": [
    "data.Type.replace('Retired Person','Retired Persons',inplace=True)\n",
    "data.Type.replace('Student','Students',inplace=True)\n",
    "data.Type.replace('Unemployed Persons','Unemployed',inplace=True)\n",
    "data.Type.replace('Other Causes','Other',inplace=True)\n",
    "data.Type.replace('Other Statutory Body/Etc.','Other',inplace=True)\n",
    "data.Type.replace('Others (Please Specify)','Other',inplace=True)"
   ]
  },
  {
   "cell_type": "code",
   "execution_count": 446,
   "metadata": {
    "collapsed": true
   },
   "outputs": [],
   "source": [
    "data.Type.replace('Building','By Jumping From (Building)',inplace=True)\n",
    "data.Type.replace('By Fire-Arms','By Firearms',inplace=True)\n",
    "data.Type.replace('Other Sites','By Jumping From (Other Sites)',inplace=True)\n",
    "data.Type.replace('By Self Inflicting  Injury','By Self Infliction Of Injury',inplace=True)\n",
    "data.Type.replace('By Other Means (Please Specify)','By Other Means',inplace=True)\n",
    "data.Type.replace('By Touching Electric Wire','By Touching Electric Wires',inplace=True)\n",
    "data.Type.replace('By Overdose Of Sleeping Pills','By Consuming Sleeping Pills',inplace=True)\n",
    "data.Type.replace('By Jumping Off Moving Trains/Vehicles','By Jumping Off Moving Vehicles/Trains',inplace=True)"
   ]
  },
  {
   "cell_type": "code",
   "execution_count": 432,
   "metadata": {},
   "outputs": [],
   "source": [
    "data.Type.replace('Other Causes (Please Specity)','Other Causes',inplace=True)\n",
    "data.Type.replace('Not Having Children(Barrenness/Impotency','Not Having Children (Barrenness/Impotency)',inplace=True)\n",
    "data.Type.replace('Not Having Children (Barrenness/Impotency','Not Having Children (Barrenness/Impotency)',inplace=True)\n",
    "data.Type.replace('Physical Abuse (Rape,Incest Etc.)','Physical/sexual abuse',inplace=True)\n",
    "data.Type.replace('Physical Abuse (Rape; Etc.)','Physical/sexual abuse',inplace=True)\n",
    "data.Type.replace('Bankruptcy Or Sudden Change In Economic','Bankruptcy Or Sudden Change In Economic Status',inplace=True)\n",
    "data.Type.replace('Bankruptcy Or Indebtedness','Bankruptcy Or Sudden Change In Economic Status',inplace=True)\n",
    "data.Type.replace('Others','Other Causes',inplace=True)"
   ]
  },
  {
   "cell_type": "code",
   "execution_count": 434,
   "metadata": {
    "collapsed": true
   },
   "outputs": [],
   "source": [
    "data.Type.replace('Aids/Std','Illness (Aids/Std)',inplace=True)\n",
    "data.Type.replace('Non Settlement Of Marriage','Cancellation/Non-Settlement Of Marriage',inplace=True)\n",
    "data.Type.replace('Impotency/Infertility','Not Having Children (Barrenness/Impotency)',inplace=True)"
   ]
  },
  {
   "cell_type": "code",
   "execution_count": 437,
   "metadata": {
    "collapsed": true
   },
   "outputs": [],
   "source": [
    "data.Type.replace('Dowry Dispute','Dowry Related Issues',inplace=True)"
   ]
  },
  {
   "cell_type": "code",
   "execution_count": 459,
   "metadata": {
    "collapsed": true
   },
   "outputs": [],
   "source": [
    "data.to_csv('Suicides_in_India-2001-2014_newest.csv')"
   ]
  },
  {
   "cell_type": "code",
   "execution_count": null,
   "metadata": {
    "collapsed": true
   },
   "outputs": [],
   "source": []
  }
 ],
 "metadata": {
  "kernelspec": {
   "display_name": "Python 3",
   "language": "python",
   "name": "python3"
  },
  "language_info": {
   "codemirror_mode": {
    "name": "ipython",
    "version": 3
   },
   "file_extension": ".py",
   "mimetype": "text/x-python",
   "name": "python",
   "nbconvert_exporter": "python",
   "pygments_lexer": "ipython3",
   "version": "3.6.1"
  }
 },
 "nbformat": 4,
 "nbformat_minor": 2
}
